{
  "cells": [
    {
      "cell_type": "markdown",
      "metadata": {
        "id": "-dLiPahkb5fZ"
      },
      "source": [
        "## Colab helper functions"
      ]
    },
    {
      "cell_type": "code",
      "execution_count": null,
      "metadata": {
        "id": "lFrOhyFDXXGd"
      },
      "outputs": [],
      "source": [
        "\"\"\" Delete a folder \"\"\"\n",
        "\n",
        "import os\n",
        "import shutil\n",
        "\n",
        "folder_path = '/content/image_dataset'\n",
        "\n",
        "# Attempt to delete individual files\n",
        "for filename in os.listdir(folder_path):\n",
        "    file_path = os.path.join(folder_path, filename)\n",
        "    try:\n",
        "        os.remove(file_path)  # Remove file\n",
        "    except Exception as e:\n",
        "        print(f\"Error deleting {file_path}: {e}\")\n",
        "\n",
        "# Now delete the folder\n",
        "shutil.rmtree(folder_path)\n"
      ]
    },
    {
      "cell_type": "code",
      "execution_count": null,
      "metadata": {
        "colab": {
          "base_uri": "https://localhost:8080/",
          "height": 17
        },
        "id": "dPUpFlUq7ZMP",
        "outputId": "c8877bf9-6a1a-4eac-c33a-1716eb917d4a"
      },
      "outputs": [
        {
          "data": {
            "application/javascript": "\n    async function download(id, filename, size) {\n      if (!google.colab.kernel.accessAllowed) {\n        return;\n      }\n      const div = document.createElement('div');\n      const label = document.createElement('label');\n      label.textContent = `Downloading \"${filename}\": `;\n      div.appendChild(label);\n      const progress = document.createElement('progress');\n      progress.max = size;\n      div.appendChild(progress);\n      document.body.appendChild(div);\n\n      const buffers = [];\n      let downloaded = 0;\n\n      const channel = await google.colab.kernel.comms.open(id);\n      // Send a message to notify the kernel that we're ready.\n      channel.send({})\n\n      for await (const message of channel.messages) {\n        // Send a message to notify the kernel that we're ready.\n        channel.send({})\n        if (message.buffers) {\n          for (const buffer of message.buffers) {\n            buffers.push(buffer);\n            downloaded += buffer.byteLength;\n            progress.value = downloaded;\n          }\n        }\n      }\n      const blob = new Blob(buffers, {type: 'application/binary'});\n      const a = document.createElement('a');\n      a.href = window.URL.createObjectURL(blob);\n      a.download = filename;\n      div.appendChild(a);\n      a.click();\n      div.remove();\n    }\n  ",
            "text/plain": [
              "<IPython.core.display.Javascript object>"
            ]
          },
          "metadata": {},
          "output_type": "display_data"
        },
        {
          "data": {
            "application/javascript": "download(\"download_2d52558e-bcd0-4961-bd4d-7f06f7b28850\", \"image_dataset.zip\", 424010477)",
            "text/plain": [
              "<IPython.core.display.Javascript object>"
            ]
          },
          "metadata": {},
          "output_type": "display_data"
        }
      ],
      "source": [
        "\"\"\" Download a folder with its contanees \"\"\"\n",
        "\n",
        "import shutil\n",
        "from google.colab import files\n",
        "\n",
        "# Specify the path to the folder you want to download\n",
        "folder_path = '/content/image_dataset'\n",
        "# Specify the name for the zip file (without extension)\n",
        "zip_file_name = 'image_dataset'\n",
        "\n",
        "# Create a zip file of the folder\n",
        "shutil.make_archive(zip_file_name, 'zip', folder_path)\n",
        "\n",
        "# Download the zip file\n",
        "files.download(zip_file_name + '.zip')\n"
      ]
    },
    {
      "cell_type": "markdown",
      "metadata": {
        "id": "YtNg5Fy_cCCd"
      },
      "source": [
        "## Initialize"
      ]
    },
    {
      "cell_type": "code",
      "execution_count": null,
      "metadata": {
        "colab": {
          "base_uri": "https://localhost:8080/"
        },
        "id": "MzApVRK-cFea",
        "outputId": "a19e1611-5889-4519-817d-b0c0823b19ff"
      },
      "outputs": [
        {
          "name": "stdout",
          "output_type": "stream",
          "text": [
            "Done!\n"
          ]
        }
      ],
      "source": [
        "!pip install -q datasets weaviate-client transformers torch pillow open_clip_torch\n",
        "print(\"Done!\")\n",
        "\n",
        "# After this, restart the session\n"
      ]
    },
    {
      "cell_type": "markdown",
      "metadata": {
        "id": "BoIjJliNXK8O"
      },
      "source": [
        "## Download datasets"
      ]
    },
    {
      "cell_type": "code",
      "execution_count": null,
      "metadata": {
        "id": "hkKcinMHcQtT"
      },
      "outputs": [],
      "source": [
        "from datasets import load_dataset\n",
        "from tqdm.notebook import tqdm\n",
        "from PIL import Image\n",
        "import soundfile as sf\n",
        "import os\n",
        "import json\n"
      ]
    },
    {
      "cell_type": "code",
      "execution_count": null,
      "metadata": {
        "colab": {
          "base_uri": "https://localhost:8080/",
          "height": 249,
          "referenced_widgets": [
            "6e60ca96ce6d4e348378a556e05f4e56",
            "f4fa3da7f5bc43b39bab2e02a4e3d1ee",
            "1b897337c1ce43ea8a4f6c26270c82b4",
            "150ff5bc84c747229a3eb4b31daf100c",
            "e0a3b94020a349db85e14c7694d333f3",
            "db580f99c7ba4ef4836dc48e68323037",
            "3e8f827421b246cd85f556242e4f5d53",
            "76a1fa33d9424685b1bb73b9da419393",
            "149f8e8e5e834d1d82b706289ff9c888",
            "95e5bf2cf02e4e90b4cb3c9fc496c458",
            "b81fbe3228b84167aef094653593a9ac",
            "3f15a93d1079432f90fca76c09062de8",
            "c2176250c5dc493db2aadbf8735e28cb",
            "dd81c8838cb64570988c3f59a7f5adf1",
            "ba2991aab6b14fbea620db19c7d26544",
            "cd67ce3afda64c3985a9498830fc3e99",
            "485707b9f399443a9087a71ced60dac2",
            "f3e64747b26f4582b2ad6c59a05664ee",
            "77a9dd742df5481298d212e670a4dcaf",
            "14a7fc95bcfd4f91aeb454f69258ecfe",
            "1303aff8077a42f480e9f19e0ca24b56",
            "061b3666f7454d6bb711a4a29b2be5ea",
            "47e2793c934b469a8f0144386d6615e4",
            "4d5fcb816fb04454b0d8b561e9485153",
            "bcb93bd901234327886010fea02c502c",
            "438fa05a3f254aab85fda5861ccd1a93",
            "6bf5e8360a1448e68e3344485bf0a6c7",
            "522590de8a794ab38cccd0ebfc43ea4b",
            "deee0ff329c04ac78e703f972e0bf8d9",
            "8fe5a2d729854d5b8ecb6853b7c0f8c9",
            "a7e57ce0d1cc4202a520316d03d66823",
            "3e8d889f9aed4921a51f19466f61268d",
            "59ad18a0938142e282dbe57f415ed042",
            "18ae3488452743bfbc0d7a51468e7440",
            "8cf250a53c9641deab549666ff0202d7",
            "9bfb1a7f242b4ae391ba8ac8424eeb66",
            "3524a9b3eb0b4e7196ee2ef2e6282523",
            "eff7f723e536447a83443e5586bde19f",
            "b4ca7bd7080d4638bc07e12f89513919",
            "0601cfc540464a23bf260348d32f9f9a",
            "456954d15817460aa77b3d7b1138917b",
            "38ee6b660abd4ebf9ecefeb4a3eee1f9",
            "3aab1c02feef4a4d8042540089ef1ae5",
            "efc0048743844b4c815c9d25abbf8f47"
          ]
        },
        "id": "vHIfTMrmV1kN",
        "outputId": "1218ca22-0d99-40a9-d4c2-3edf5837b214"
      },
      "outputs": [
        {
          "name": "stderr",
          "output_type": "stream",
          "text": [
            "/usr/local/lib/python3.12/dist-packages/huggingface_hub/utils/_auth.py:94: UserWarning: \n",
            "The secret `HF_TOKEN` does not exist in your Colab secrets.\n",
            "To authenticate with the Hugging Face Hub, create a token in your settings tab (https://huggingface.co/settings/tokens), set it as secret in your Google Colab and restart your session.\n",
            "You will be able to reuse this secret in all of your notebooks.\n",
            "Please note that authentication is recommended but still optional to access public models or datasets.\n",
            "  warnings.warn(\n"
          ]
        },
        {
          "data": {
            "application/vnd.jupyter.widget-view+json": {
              "model_id": "6e60ca96ce6d4e348378a556e05f4e56",
              "version_major": 2,
              "version_minor": 0
            },
            "text/plain": [
              "README.md: 0.00B [00:00, ?B/s]"
            ]
          },
          "metadata": {},
          "output_type": "display_data"
        },
        {
          "data": {
            "application/vnd.jupyter.widget-view+json": {
              "model_id": "3f15a93d1079432f90fca76c09062de8",
              "version_major": 2,
              "version_minor": 0
            },
            "text/plain": [
              "data/test-00000-of-00002-e0f1e8b674a1af9(…):   0%|          | 0.00/411M [00:00<?, ?B/s]"
            ]
          },
          "metadata": {},
          "output_type": "display_data"
        },
        {
          "data": {
            "application/vnd.jupyter.widget-view+json": {
              "model_id": "47e2793c934b469a8f0144386d6615e4",
              "version_major": 2,
              "version_minor": 0
            },
            "text/plain": [
              "data/test-00001-of-00002-dc43b445e1598d9(…):   0%|          | 0.00/413M [00:00<?, ?B/s]"
            ]
          },
          "metadata": {},
          "output_type": "display_data"
        },
        {
          "data": {
            "application/vnd.jupyter.widget-view+json": {
              "model_id": "18ae3488452743bfbc0d7a51468e7440",
              "version_major": 2,
              "version_minor": 0
            },
            "text/plain": [
              "Generating test split:   0%|          | 0/5000 [00:00<?, ? examples/s]"
            ]
          },
          "metadata": {},
          "output_type": "display_data"
        }
      ],
      "source": [
        "# Image\n",
        "image_dataset = load_dataset(\"Multimodal-Fatima/COCO_captions_test\")\n",
        "\n",
        "# Audio\n",
        "# audio_dataset = load_dataset(\"mshah1/speech_robust_bench\", \"accented_cv\")\n",
        "\n",
        "# Text\n",
        "# We use the text part of the COCO dataset for text_dataset (for relevant texts)\n",
        "# text_dataset = []\n"
      ]
    },
    {
      "cell_type": "code",
      "execution_count": null,
      "metadata": {
        "colab": {
          "base_uri": "https://localhost:8080/",
          "height": 84,
          "referenced_widgets": [
            "e205aa67795d4afd8f408be18134f038",
            "972ee39c917a4c7883b030bb602dc4e7",
            "d50f67d74223480fa054daf150034d91",
            "1643d530885148a18b9f407c340b9db8",
            "aeef982a371347bcb031c2c93145183a",
            "373d99bb70324f98b0c6fe224739d56a",
            "b44c0f897d7d47ba8094f5a82f9eda23",
            "cb164bf83786450b898b3d383022f678",
            "feb5ab34e3984e1e82b67e7dc4a9951d",
            "93835140508f46b8ab0e5017e2bcfc0a",
            "7fff80386f5444498db5d960f2612d48"
          ]
        },
        "id": "Dl2MLolhXptN",
        "outputId": "7a30d9c2-f8d9-48c6-88ee-20d108bdf734"
      },
      "outputs": [
        {
          "data": {
            "application/vnd.jupyter.widget-view+json": {
              "model_id": "e205aa67795d4afd8f408be18134f038",
              "version_major": 2,
              "version_minor": 0
            },
            "text/plain": [
              "Saving images:   0%|          | 0/5000 [00:00<?, ?it/s]"
            ]
          },
          "metadata": {},
          "output_type": "display_data"
        },
        {
          "name": "stdout",
          "output_type": "stream",
          "text": [
            "\n",
            "Saved the first 1000 images to /content/image_dataset\n"
          ]
        }
      ],
      "source": [
        "\"\"\" Save images locally \"\"\"\n",
        "\n",
        "def save_images(dataset, dataset_folder, num_images=1000):\n",
        "    for i in tqdm(range(num_images), desc=\"Saving images\"):\n",
        "        image = dataset['test'][i]['image']\n",
        "        image = image.resize((224, 224), Image.BILINEAR)\n",
        "        image.save(os.path.join(dataset_folder, f'image_{i+1}.png'))\n",
        "\n",
        "\n",
        "image_dataset_folder = '/content/image_dataset'\n",
        "os.makedirs(image_dataset_folder, exist_ok=True)\n",
        "save_images(image_dataset, image_dataset_folder, num_images=5000)\n",
        "\n",
        "print(f\"\\nSaved the first 1000 images to {image_dataset_folder}\")\n"
      ]
    },
    {
      "cell_type": "code",
      "execution_count": null,
      "metadata": {
        "colab": {
          "base_uri": "https://localhost:8080/",
          "height": 84,
          "referenced_widgets": [
            "79bc1860054f4eeaaa0a30f6ba25cba6",
            "3e134342641c42d3a2d817a1cb4e8b81",
            "56d45206303a40eea82f8b74104ff7a4",
            "7865beb47cff4928a50e79bd2c543acb",
            "67d2d957d2c14fe286e0fafa3a93b00d",
            "b0996c5d933241bfbed84e72f6285b11",
            "1331aa3406904148be22870311958a70",
            "293a050a21af4589b973cf95b45faaa5",
            "13e29147b2d84a8da03d6197cf93930a",
            "d0cabdd49dd64669b1b25b7e0b87ce12",
            "242dd0568e7848c086fc7d0ef9740225"
          ]
        },
        "id": "QAqZZHvV8u-K",
        "outputId": "00121676-de01-4263-95db-274c573fc217"
      },
      "outputs": [
        {
          "data": {
            "application/vnd.jupyter.widget-view+json": {
              "model_id": "79bc1860054f4eeaaa0a30f6ba25cba6",
              "version_major": 2,
              "version_minor": 0
            },
            "text/plain": [
              "Extracting longest sentences:   0%|          | 0/5000 [00:00<?, ?it/s]"
            ]
          },
          "metadata": {},
          "output_type": "display_data"
        },
        {
          "name": "stdout",
          "output_type": "stream",
          "text": [
            "\n",
            "✅ Extracted 10000 longest sentences successfully.\n"
          ]
        }
      ],
      "source": [
        "\"\"\" Save two longest sentences from dataset \"\"\"\n",
        "\n",
        "def save_longest_sentences(dataset, num_items=1000, top_k=2):\n",
        "    longest_sentences = []\n",
        "    for i in tqdm(range(num_items), desc=\"Extracting longest sentences\"):\n",
        "        sentences = dataset['test'][i]['sentences_raw']  # A list of strings\n",
        "        if sentences:  # Check it's not empty\n",
        "            # Sort by length (longest first)\n",
        "            sorted_sentences = sorted(sentences, key=len, reverse=True)\n",
        "            # Take top_k sentences (e.g., 2)\n",
        "            top_sentences = sorted_sentences[:top_k]\n",
        "            longest_sentences.extend(top_sentences)\n",
        "\n",
        "    return longest_sentences\n",
        "\n",
        "\n",
        "text_dataset = save_longest_sentences(image_dataset, num_items=5000, top_k=2)\n",
        "\n",
        "print(f\"\\n✅ Extracted {len(text_dataset)} longest sentences successfully.\")\n"
      ]
    },
    {
      "cell_type": "markdown",
      "metadata": {
        "id": "5c3NPbJo8uJi"
      },
      "source": [
        "## Config weaviate database"
      ]
    },
    {
      "cell_type": "code",
      "execution_count": null,
      "metadata": {
        "id": "qvcqT8c6838l"
      },
      "outputs": [],
      "source": [
        "import weaviate\n",
        "import torch\n",
        "import base64\n",
        "from PIL import Image\n",
        "import io\n",
        "import requests\n",
        "import json\n",
        "from typing import List, Dict, Any\n",
        "import numpy as np\n",
        "import os\n",
        "import weaviate\n",
        "from weaviate.classes.init import Auth\n",
        "from weaviate.classes.config import Property, DataType, Configure\n"
      ]
    },
    {
      "cell_type": "code",
      "execution_count": null,
      "metadata": {
        "colab": {
          "base_uri": "https://localhost:8080/"
        },
        "id": "EI-N2Jx385rB",
        "outputId": "00557db8-dc41-4f5e-ce4c-205a37423b38"
      },
      "outputs": [
        {
          "name": "stdout",
          "output_type": "stream",
          "text": [
            "True\n"
          ]
        }
      ],
      "source": [
        "# Best practice: store your credentials in environment variables\n",
        "# Find these on your cluster on weaviate\n",
        "weaviate_url = \"...\"\n",
        "weaviate_api_key = \"...\"\n",
        "\n",
        "# Connect to Weaviate Cloud\n",
        "weaviate_client = weaviate.connect_to_weaviate_cloud(\n",
        "    cluster_url=weaviate_url,\n",
        "    auth_credentials=Auth.api_key(weaviate_api_key),\n",
        ")\n",
        "\n",
        "print(weaviate_client.is_ready())\n"
      ]
    },
    {
      "cell_type": "code",
      "execution_count": null,
      "metadata": {
        "colab": {
          "base_uri": "https://localhost:8080/"
        },
        "id": "wP5KPbYjdXax",
        "outputId": "80028b48-5f2f-4d47-963a-12d4efe9635a"
      },
      "outputs": [
        {
          "name": "stdout",
          "output_type": "stream",
          "text": [
            "Deleted existing collection ✅\n",
            "Collection created successfully ✅\n"
          ]
        }
      ],
      "source": [
        "# حذف کالکشن قبلی (اختیاری)\n",
        "try:\n",
        "    weaviate_client.collections.delete(\"MultimodalItem\")\n",
        "    print(\"Deleted existing collection ✅\")\n",
        "except:\n",
        "    print(\"No existing collection to delete\")\n",
        "\n",
        "# ایجاد کالکشن جدید\n",
        "weaviate_client.collections.create(\n",
        "    name=\"MultimodalItem\",\n",
        "    description=\"Stores text, image, and audio items with embeddings\",\n",
        "    vectorizer_config=Configure.Vectorizer.none(),\n",
        "    properties=[\n",
        "        Property(name=\"contentId\", data_type=DataType.TEXT),\n",
        "        Property(name=\"modality\", data_type=DataType.TEXT),\n",
        "        Property(name=\"filePath\", data_type=DataType.TEXT),\n",
        "        Property(name=\"content\", data_type=DataType.TEXT),\n",
        "    ],\n",
        ")\n",
        "\n",
        "print(\"Collection created successfully ✅\")\n",
        "\n",
        "# گرفتن کالکشن\n",
        "collection = weaviate_client.collections.get(\"MultimodalItem\")\n"
      ]
    },
    {
      "cell_type": "code",
      "execution_count": null,
      "metadata": {
        "colab": {
          "base_uri": "https://localhost:8080/"
        },
        "id": "ElsxGxFo-plb",
        "outputId": "c5e1ba93-8d78-4f9e-e772-a54f3341417c"
      },
      "outputs": [
        {
          "name": "stdout",
          "output_type": "stream",
          "text": [
            "🔢 Total items stored: 0\n"
          ]
        }
      ],
      "source": [
        "count_result = collection.aggregate.over_all(total_count=True)\n",
        "print(\"🔢 Total items stored:\", count_result.total_count)\n"
      ]
    },
    {
      "cell_type": "markdown",
      "metadata": {
        "id": "it_rfsaqdFsN"
      },
      "source": [
        "## Initialize CLIP model"
      ]
    },
    {
      "cell_type": "code",
      "execution_count": null,
      "metadata": {
        "colab": {
          "base_uri": "https://localhost:8080/",
          "height": 84,
          "referenced_widgets": [
            "d8dd674fded246e6925c20e3a7385070",
            "30f738a3660b4609a3004cb95efd28a0",
            "271b8e90e87c4ef38769e9f1be0c08f8",
            "a56b7b1cc2044979af3ef52934209d77",
            "3ca1fb8353754f85b50b231d18f82b95",
            "f2cf13a7fdee438d872e33625abe6d5e",
            "bc9ddaaacd85450f8143903dba362ba1",
            "1e3b7a0105f543c082aa3ab763b0b22a",
            "fce1acfb397844f8939cfad2562e93eb",
            "40a4d60992bc4b309c277a4c9b0f5295",
            "2dd1aa667df447e79cf3a598a5f63226"
          ]
        },
        "id": "pHBFl3NuaNTa",
        "outputId": "3c677cd6-2fe7-48e2-c8d1-bb5dbefafb9e"
      },
      "outputs": [
        {
          "data": {
            "application/vnd.jupyter.widget-view+json": {
              "model_id": "d8dd674fded246e6925c20e3a7385070",
              "version_major": 2,
              "version_minor": 0
            },
            "text/plain": [
              "open_clip_model.safetensors:   0%|          | 0.00/605M [00:00<?, ?B/s]"
            ]
          },
          "metadata": {},
          "output_type": "display_data"
        },
        {
          "name": "stderr",
          "output_type": "stream",
          "text": [
            "/usr/local/lib/python3.12/dist-packages/open_clip/factory.py:450: UserWarning: QuickGELU mismatch between final model config (quick_gelu=False) and pretrained tag 'openai' (quick_gelu=True).\n",
            "  warnings.warn(\n"
          ]
        }
      ],
      "source": [
        "# embedder_openclip.py\n",
        "from typing import Union\n",
        "import numpy as np\n",
        "from PIL import Image\n",
        "import torch\n",
        "import open_clip\n",
        "\n",
        "# --- تنظیمات ---\n",
        "MODEL_NAME = \"ViT-B-32\"       # یا ViT-B-16، RN50 و ... (بسته به موجود بودن در open_clip)\n",
        "PRETRAINED = \"openai\"         # یا مدل‌های دیگر که open-clip پشتیبانی کند\n",
        "DEVICE = \"cuda\" if torch.cuda.is_available() else \"cpu\"\n",
        "# -----------------\n",
        "\n",
        "# لود مدل و توابع پردازش\n",
        "clip_model, _, preprocess = open_clip.create_model_and_transforms(MODEL_NAME, pretrained=PRETRAINED)\n",
        "tokenizer = open_clip.get_tokenizer(MODEL_NAME)\n",
        "clip_model.to(DEVICE)\n",
        "clip_model.eval()\n",
        "\n",
        "def _to_numpy(t: torch.Tensor) -> np.ndarray:\n",
        "    \"\"\"convert tensor (1 x D) -> 1D numpy array\"\"\"\n",
        "    return t.detach().cpu().numpy().reshape(-1)\n",
        "\n",
        "def embed_text(text: str) -> np.ndarray:\n",
        "    \"\"\"\n",
        "    دریافت یک رشته و بازگرداندن embedding نرمالایز شده (1D numpy array).\n",
        "    \"\"\"\n",
        "    if not isinstance(text, str):\n",
        "        raise ValueError(\"text باید یک رشته (str) باشد.\")\n",
        "    # توکنایز\n",
        "    tokens = tokenizer([text]).to(DEVICE)\n",
        "    with torch.no_grad():\n",
        "        text_features = clip_model.encode_text(tokens)       # shape: (1, D)\n",
        "        # نرمالیزه کن (unit vector)\n",
        "        text_features = text_features / text_features.norm(dim=-1, keepdim=True)\n",
        "    return _to_numpy(text_features)\n",
        "\n",
        "def embed_image(image_path: str) -> np.ndarray:\n",
        "    \"\"\"\n",
        "    دریافت مسیر تصویر، لود تصویر، پردازش و بازگرداندن embedding نرمالایز شده (1D numpy array).\n",
        "    \"\"\"\n",
        "    if not isinstance(image_path, str):\n",
        "        raise ValueError(\"image_path باید یک مسیر (str) باشد.\")\n",
        "    # load image\n",
        "    img = Image.open(image_path).convert(\"RGB\")\n",
        "    x = preprocess(img).unsqueeze(0).to(DEVICE)   # shape: (1, C, H, W)\n",
        "    with torch.no_grad():\n",
        "        image_features = clip_model.encode_image(x)     # shape: (1, D)\n",
        "        image_features = image_features / image_features.norm(dim=-1, keepdim=True)\n",
        "    return _to_numpy(image_features)\n",
        "\n",
        "def get_embedding(modality: str, input_data: Union[str, None]) -> np.ndarray:\n",
        "    \"\"\"\n",
        "    تابع wrapper: modality in [\"text\",\"image\"].\n",
        "    برای تصویر ورودی باید مسیر فایل باشه، برای text باید رشته.\n",
        "    \"\"\"\n",
        "    mod = modality.lower()\n",
        "    if mod == \"text\":\n",
        "        return embed_text(input_data)\n",
        "    elif mod == \"image\":\n",
        "        return embed_image(input_data)\n",
        "    else:\n",
        "        raise ValueError(\"modality باید 'text' یا 'image' باشد.\")\n"
      ]
    },
    {
      "cell_type": "code",
      "execution_count": null,
      "metadata": {
        "id": "4kkUcAU69BDP"
      },
      "outputs": [],
      "source": [
        "def store_text_item(item_id: str, text_data: str):\n",
        "    \"\"\"\n",
        "    Store a text item with its embedding and metadata.\n",
        "    \"\"\"\n",
        "    embedding = get_embedding(\"text\", text_data)\n",
        "\n",
        "    properties = {\n",
        "        \"contentId\": item_id,\n",
        "        \"modality\": \"text\",\n",
        "        \"filePath\": \"\",\n",
        "        \"content\": text_data,\n",
        "    }\n",
        "\n",
        "    collection.data.insert(properties=properties, vector=embedding.tolist())\n",
        "\n",
        "def store_image_item(item_id: str, image_path: str):\n",
        "    \"\"\"\n",
        "    Store an image item with its embedding and metadata.\n",
        "    \"\"\"\n",
        "    embedding = get_embedding(\"image\", image_path)\n",
        "\n",
        "    properties = {\n",
        "        \"contentId\": item_id,\n",
        "        \"modality\": \"image\",\n",
        "        \"filePath\": image_path,\n",
        "        \"content\": \"\",\n",
        "    }\n",
        "\n",
        "    collection.data.insert(properties=properties, vector=embedding.tolist())\n",
        "\n",
        "def store_audio_item(item_id: str, transcription_text: str, audio_path: str = \"\"):\n",
        "    \"\"\"\n",
        "    Store an audio item with its text transcription embedding and metadata.\n",
        "    \"\"\"\n",
        "    embedding = get_embedding(\"text\", transcription_text)\n",
        "\n",
        "    properties = {\n",
        "        \"contentId\": item_id,\n",
        "        \"modality\": \"audio\",\n",
        "        \"filePath\": audio_path,\n",
        "        \"content\": transcription_text,\n",
        "    }\n",
        "\n",
        "    collection.data.insert(properties=properties, vector=embedding.tolist())\n"
      ]
    },
    {
      "cell_type": "markdown",
      "metadata": {
        "id": "L4ORbLhDd1v9"
      },
      "source": [
        "## Add all the data to database"
      ]
    },
    {
      "cell_type": "code",
      "execution_count": null,
      "metadata": {
        "colab": {
          "base_uri": "https://localhost:8080/"
        },
        "id": "UPDpf-exSAtu",
        "outputId": "9e1c3103-14f4-4767-ca2b-8aecef74d381"
      },
      "outputs": [
        {
          "name": "stdout",
          "output_type": "stream",
          "text": [
            "Mounted at /content/drive\n"
          ]
        }
      ],
      "source": [
        "from google.colab import drive\n",
        "drive.mount('/content/drive')\n"
      ]
    },
    {
      "cell_type": "code",
      "execution_count": null,
      "metadata": {
        "id": "6c2lpTqrpk2l"
      },
      "outputs": [],
      "source": [
        "import os\n",
        "import json\n",
        "from concurrent.futures import ThreadPoolExecutor, as_completed\n",
        "from tqdm import tqdm\n",
        "\n",
        "\n",
        "def process_images(image_folder, max_workers=8):\n",
        "    \"\"\"Process and store image embeddings in parallel.\"\"\"\n",
        "    image_files = [\n",
        "        os.path.join(image_folder, f)\n",
        "        for f in os.listdir(image_folder)\n",
        "        if f.lower().endswith((\".jpg\", \".jpeg\", \".png\"))\n",
        "    ]\n",
        "\n",
        "    with ThreadPoolExecutor(max_workers=max_workers) as executor:\n",
        "        futures = []\n",
        "        for img_path in image_files:\n",
        "            content_id = os.path.splitext(os.path.basename(img_path))[0]\n",
        "            futures.append(\n",
        "                executor.submit(\n",
        "                    store_image_item, content_id, img_path\n",
        "                )\n",
        "            )\n",
        "\n",
        "        for _ in tqdm(as_completed(futures), total=len(futures), desc=\"📸 Processing images in parallel\"):\n",
        "            pass\n",
        "\n",
        "    print(f\"✅ Processed {len(image_files)} images.\")\n",
        "\n",
        "\n",
        "def process_texts(text_list, max_workers=8):\n",
        "    \"\"\"Process and store text embeddings in parallel.\"\"\"\n",
        "    with ThreadPoolExecutor(max_workers=max_workers) as executor:\n",
        "        futures = []\n",
        "        for i, text_item in enumerate(text_list):\n",
        "            content_id = f\"text_{i+1}\"\n",
        "            futures.append(\n",
        "                executor.submit(store_text_item, content_id, text_item)\n",
        "            )\n",
        "\n",
        "        for _ in tqdm(as_completed(futures), total=len(futures), desc=\"📝 Processing texts in parallel\"):\n",
        "            pass\n",
        "\n",
        "    print(f\"✅ Processed {len(text_list)} text items.\")\n",
        "\n",
        "\n",
        "def process_audio_json(json_path, max_workers=8, num_entries=None):\n",
        "    \"\"\"\n",
        "    Process and store audio embeddings in parallel from JSON metadata file.\n",
        "    Each entry in JSON should have: id, filepath, transcription\n",
        "\n",
        "    Args:\n",
        "        json_path (str): Path to JSON metadata file.\n",
        "        max_workers (int): Number of threads for parallel processing.\n",
        "        num_entries (int, optional): Limit to first N valid entries. Defaults to None (process all).\n",
        "    \"\"\"\n",
        "\n",
        "    # === Load JSON ===\n",
        "    with open(json_path, \"r\", encoding=\"utf-8\") as f:\n",
        "        metadata = json.load(f)\n",
        "\n",
        "    # === Validate entries ===\n",
        "    valid_items = [\n",
        "        item for item in metadata\n",
        "        if item.get(\"filepath\") and item.get(\"transcription\")\n",
        "    ]\n",
        "\n",
        "    # === Limit entries if requested ===\n",
        "    if num_entries is not None:\n",
        "        valid_items = valid_items[:num_entries]\n",
        "\n",
        "    print(f\"📂 Found {len(valid_items)} valid audio entries to process.\")\n",
        "\n",
        "    # === Process in parallel ===\n",
        "    with ThreadPoolExecutor(max_workers=max_workers) as executor:\n",
        "        futures = {\n",
        "            executor.submit(\n",
        "                store_audio_item,\n",
        "                str(item[\"id\"]),\n",
        "                item[\"transcription\"],\n",
        "                item[\"filepath\"]\n",
        "            ): item for item in valid_items\n",
        "        }\n",
        "\n",
        "        # Track progress with tqdm\n",
        "        for _ in tqdm(as_completed(futures), total=len(futures), desc=\"🎧 Storing audio embeddings\"):\n",
        "            pass\n",
        "\n",
        "    print(f\"✅ Successfully processed {len(valid_items)} audio items.\")\n"
      ]
    },
    {
      "cell_type": "code",
      "execution_count": null,
      "metadata": {
        "colab": {
          "base_uri": "https://localhost:8080/"
        },
        "id": "2hQUm9DsRBMd",
        "outputId": "2bf7fbc1-270a-48d6-c0bd-f017ad40eccd"
      },
      "outputs": [
        {
          "name": "stderr",
          "output_type": "stream",
          "text": [
            "📸 Processing images in parallel: 100%|██████████| 5000/5000 [02:34<00:00, 32.40it/s]"
          ]
        },
        {
          "name": "stdout",
          "output_type": "stream",
          "text": [
            "✅ Processed 5000 images.\n"
          ]
        },
        {
          "name": "stderr",
          "output_type": "stream",
          "text": [
            "\n"
          ]
        }
      ],
      "source": [
        "image_folder = \"/content/image_dataset\"\n",
        "process_images(image_folder)\n"
      ]
    },
    {
      "cell_type": "code",
      "execution_count": null,
      "metadata": {
        "colab": {
          "base_uri": "https://localhost:8080/"
        },
        "id": "iopBRLumRBFx",
        "outputId": "975be96c-e352-45b1-e5f2-21f282dc8191"
      },
      "outputs": [
        {
          "name": "stdout",
          "output_type": "stream",
          "text": [
            "📂 Found 25000 valid audio entries to process.\n"
          ]
        },
        {
          "name": "stderr",
          "output_type": "stream",
          "text": [
            "🎧 Storing audio embeddings: 100%|██████████| 25000/25000 [12:19<00:00, 33.82it/s]"
          ]
        },
        {
          "name": "stdout",
          "output_type": "stream",
          "text": [
            "✅ Successfully processed 25000 audio items.\n"
          ]
        },
        {
          "name": "stderr",
          "output_type": "stream",
          "text": [
            "\n"
          ]
        }
      ],
      "source": [
        "json_path = \"/content/drive/MyDrive/audio_metadata.json\"\n",
        "process_audio_json(json_path, num_entries=25000)\n"
      ]
    },
    {
      "cell_type": "code",
      "execution_count": null,
      "metadata": {
        "colab": {
          "base_uri": "https://localhost:8080/"
        },
        "id": "l47tSCFYRAy4",
        "outputId": "9d836666-b917-4c37-dc5c-bd471cd8c3ff"
      },
      "outputs": [
        {
          "name": "stderr",
          "output_type": "stream",
          "text": [
            "📝 Processing texts in parallel: 100%|██████████| 10000/10000 [04:55<00:00, 33.87it/s]"
          ]
        },
        {
          "name": "stdout",
          "output_type": "stream",
          "text": [
            "✅ Processed 10000 text items.\n"
          ]
        },
        {
          "name": "stderr",
          "output_type": "stream",
          "text": [
            "\n"
          ]
        }
      ],
      "source": [
        "process_texts(text_dataset)\n"
      ]
    },
    {
      "cell_type": "markdown",
      "metadata": {
        "id": "9Mgc7Ytdn2x1"
      },
      "source": [
        "## Database check"
      ]
    },
    {
      "cell_type": "code",
      "execution_count": 19,
      "metadata": {
        "colab": {
          "base_uri": "https://localhost:8080/"
        },
        "id": "jqCQ9kJWn53R",
        "outputId": "e14adcee-ff33-4fa6-d753-85e45294a1d3"
      },
      "outputs": [
        {
          "name": "stdout",
          "output_type": "stream",
          "text": [
            "{'MultimodalItem': _CollectionConfigSimple(name='MultimodalItem', description='Stores text, image, and audio items with embeddings', generative_config=None, properties=[_Property(name='contentId', description=None, data_type=<DataType.TEXT: 'text'>, index_filterable=True, index_range_filters=False, index_searchable=True, nested_properties=None, tokenization=<Tokenization.WORD: 'word'>, vectorizer_config=None, vectorizer='none', vectorizer_configs=None), _Property(name='modality', description=None, data_type=<DataType.TEXT: 'text'>, index_filterable=True, index_range_filters=False, index_searchable=True, nested_properties=None, tokenization=<Tokenization.WORD: 'word'>, vectorizer_config=None, vectorizer='none', vectorizer_configs=None), _Property(name='filePath', description=None, data_type=<DataType.TEXT: 'text'>, index_filterable=True, index_range_filters=False, index_searchable=True, nested_properties=None, tokenization=<Tokenization.WORD: 'word'>, vectorizer_config=None, vectorizer='none', vectorizer_configs=None), _Property(name='content', description=None, data_type=<DataType.TEXT: 'text'>, index_filterable=True, index_range_filters=False, index_searchable=True, nested_properties=None, tokenization=<Tokenization.WORD: 'word'>, vectorizer_config=None, vectorizer='none', vectorizer_configs=None)], references=[], reranker_config=None, vectorizer_config=None, vectorizer=<Vectorizers.NONE: 'none'>, vector_config=None)}\n",
            "🔢 Total items stored: 40000\n"
          ]
        }
      ],
      "source": [
        "print(weaviate_client.collections.list_all())\n",
        "collection = weaviate_client.collections.get(\"MultimodalItem\")\n",
        "count_result = collection.aggregate.over_all(total_count=True)\n",
        "print(\"🔢 Total items stored:\", count_result.total_count)\n"
      ]
    },
    {
      "cell_type": "markdown",
      "metadata": {
        "id": "0Cs4Y3pmd8TD"
      },
      "source": [
        "## Export data from weaviate cloud into csv"
      ]
    },
    {
      "cell_type": "code",
      "execution_count": null,
      "metadata": {
        "colab": {
          "base_uri": "https://localhost:8080/",
          "height": 69
        },
        "id": "qnIuli3RSYRs",
        "outputId": "7ff20806-5ab1-46f8-a973-13978ee6b8a1"
      },
      "outputs": [
        {
          "name": "stdout",
          "output_type": "stream",
          "text": [
            "Starting to export data from collection 'MultimodalItem' with vectors...\n",
            "Retrieved 4000 objects, including their vectors.\n",
            "✅ Data (properties, and vectors) successfully exported to data.json\n"
          ]
        },
        {
          "data": {
            "application/javascript": "\n    async function download(id, filename, size) {\n      if (!google.colab.kernel.accessAllowed) {\n        return;\n      }\n      const div = document.createElement('div');\n      const label = document.createElement('label');\n      label.textContent = `Downloading \"${filename}\": `;\n      div.appendChild(label);\n      const progress = document.createElement('progress');\n      progress.max = size;\n      div.appendChild(progress);\n      document.body.appendChild(div);\n\n      const buffers = [];\n      let downloaded = 0;\n\n      const channel = await google.colab.kernel.comms.open(id);\n      // Send a message to notify the kernel that we're ready.\n      channel.send({})\n\n      for await (const message of channel.messages) {\n        // Send a message to notify the kernel that we're ready.\n        channel.send({})\n        if (message.buffers) {\n          for (const buffer of message.buffers) {\n            buffers.push(buffer);\n            downloaded += buffer.byteLength;\n            progress.value = downloaded;\n          }\n        }\n      }\n      const blob = new Blob(buffers, {type: 'application/binary'});\n      const a = document.createElement('a');\n      a.href = window.URL.createObjectURL(blob);\n      a.download = filename;\n      div.appendChild(a);\n      a.click();\n      div.remove();\n    }\n  ",
            "text/plain": [
              "<IPython.core.display.Javascript object>"
            ]
          },
          "metadata": {},
          "output_type": "display_data"
        },
        {
          "data": {
            "application/javascript": "download(\"download_1950d278-48f8-496b-a118-9ee41e0dc40f\", \"data.json\", 70933682)",
            "text/plain": [
              "<IPython.core.display.Javascript object>"
            ]
          },
          "metadata": {},
          "output_type": "display_data"
        }
      ],
      "source": [
        "\"\"\" Download the json file \"\"\"\n",
        "\n",
        "from google.colab import files\n",
        "\n",
        "collection_name = \"MultimodalItem\"\n",
        "multimodal_collection = weaviate_client.collections.get(collection_name)\n",
        "\n",
        "all_data = []\n",
        "print(f\"Starting to export data from collection '{collection_name}' with vectors...\")\n",
        "\n",
        "for item in multimodal_collection.iterator(include_vector=True):\n",
        "    data_object = item.properties.copy()\n",
        "\n",
        "    # ❗️ The vector is a dictionary under the 'vector' key.\n",
        "    # Since you used a single vectorizer (not named vectors), the key is simply 'default'.\n",
        "    # We retrieve the list of floats (the vector) and assign it to a new key in your output.\n",
        "    vector = item.vector.get('default')\n",
        "    data_object[\"vector\"] = vector\n",
        "    all_data.append(data_object)\n",
        "\n",
        "print(f\"Retrieved {len(all_data)} objects, including their vectors.\")\n",
        "\n",
        "output_filename = \"data.json\"\n",
        "try:\n",
        "    with open(output_filename, 'w', encoding='utf-8') as f:\n",
        "        json.dump(all_data, f, ensure_ascii=False, indent=4)\n",
        "\n",
        "    print(f\"✅ Data (properties, and vectors) successfully exported to {output_filename}\")\n",
        "    files.download(\"/content/data.json\")\n",
        "\n",
        "except Exception as e:\n",
        "    print(f\"Error writing to JSON file: {e}\")\n"
      ]
    },
    {
      "cell_type": "code",
      "execution_count": 20,
      "metadata": {
        "colab": {
          "base_uri": "https://localhost:8080/"
        },
        "id": "chcZH7fr-los",
        "outputId": "a198f4ff-aec6-48d6-bccc-2eb4b4300bbf"
      },
      "outputs": [
        {
          "name": "stdout",
          "output_type": "stream",
          "text": [
            "Starting to export data from collection 'MultimodalItem' with vectors...\n",
            "Retrieved 40000 objects, including their vectors.\n",
            "✅ Data successfully exported to Google Drive at: /content/drive/MyDrive/data.json\n"
          ]
        }
      ],
      "source": [
        "\"\"\" Save the json file into drive \"\"\"\n",
        "\n",
        "import json\n",
        "from google.colab import files\n",
        "\n",
        "# ✅ Replace this path with wherever you want it saved in Drive\n",
        "save_path = \"/content/drive/MyDrive/data.json\"\n",
        "\n",
        "collection_name = \"MultimodalItem\"\n",
        "multimodal_collection = weaviate_client.collections.get(collection_name)\n",
        "\n",
        "all_data = []\n",
        "print(f\"Starting to export data from collection '{collection_name}' with vectors...\")\n",
        "\n",
        "for item in multimodal_collection.iterator(include_vector=True):\n",
        "    data_object = item.properties.copy()\n",
        "    vector = item.vector.get('default')\n",
        "    data_object[\"vector\"] = vector\n",
        "    all_data.append(data_object)\n",
        "\n",
        "print(f\"Retrieved {len(all_data)} objects, including their vectors.\")\n",
        "\n",
        "# ✅ Save directly to Drive\n",
        "try:\n",
        "    with open(save_path, 'w', encoding='utf-8') as f:\n",
        "        json.dump(all_data, f, ensure_ascii=False, indent=4)\n",
        "\n",
        "    print(f\"✅ Data successfully exported to Google Drive at: {save_path}\")\n",
        "\n",
        "except Exception as e:\n",
        "    print(f\"❌ Error writing to JSON file: {e}\")\n"
      ]
    }
  ],
  "metadata": {
    "accelerator": "GPU",
    "colab": {
      "collapsed_sections": [
        "-dLiPahkb5fZ",
        "YtNg5Fy_cCCd",
        "it_rfsaqdFsN"
      ],
      "gpuType": "T4",
      "provenance": []
    },
    "kernelspec": {
      "display_name": "myenv",
      "language": "python",
      "name": "python3"
    },
    "language_info": {
      "codemirror_mode": {
        "name": "ipython",
        "version": 3
      },
      "file_extension": ".py",
      "mimetype": "text/x-python",
      "name": "python",
      "nbconvert_exporter": "python",
      "pygments_lexer": "ipython3",
      "version": "3.12.7"
    },
    "widgets": {
      "application/vnd.jupyter.widget-state+json": {
        "0601cfc540464a23bf260348d32f9f9a": {
          "model_module": "@jupyter-widgets/controls",
          "model_module_version": "1.5.0",
          "model_name": "DescriptionStyleModel",
          "state": {
            "_model_module": "@jupyter-widgets/controls",
            "_model_module_version": "1.5.0",
            "_model_name": "DescriptionStyleModel",
            "_view_count": null,
            "_view_module": "@jupyter-widgets/base",
            "_view_module_version": "1.2.0",
            "_view_name": "StyleView",
            "description_width": ""
          }
        },
        "061b3666f7454d6bb711a4a29b2be5ea": {
          "model_module": "@jupyter-widgets/controls",
          "model_module_version": "1.5.0",
          "model_name": "DescriptionStyleModel",
          "state": {
            "_model_module": "@jupyter-widgets/controls",
            "_model_module_version": "1.5.0",
            "_model_name": "DescriptionStyleModel",
            "_view_count": null,
            "_view_module": "@jupyter-widgets/base",
            "_view_module_version": "1.2.0",
            "_view_name": "StyleView",
            "description_width": ""
          }
        },
        "1303aff8077a42f480e9f19e0ca24b56": {
          "model_module": "@jupyter-widgets/base",
          "model_module_version": "1.2.0",
          "model_name": "LayoutModel",
          "state": {
            "_model_module": "@jupyter-widgets/base",
            "_model_module_version": "1.2.0",
            "_model_name": "LayoutModel",
            "_view_count": null,
            "_view_module": "@jupyter-widgets/base",
            "_view_module_version": "1.2.0",
            "_view_name": "LayoutView",
            "align_content": null,
            "align_items": null,
            "align_self": null,
            "border": null,
            "bottom": null,
            "display": null,
            "flex": null,
            "flex_flow": null,
            "grid_area": null,
            "grid_auto_columns": null,
            "grid_auto_flow": null,
            "grid_auto_rows": null,
            "grid_column": null,
            "grid_gap": null,
            "grid_row": null,
            "grid_template_areas": null,
            "grid_template_columns": null,
            "grid_template_rows": null,
            "height": null,
            "justify_content": null,
            "justify_items": null,
            "left": null,
            "margin": null,
            "max_height": null,
            "max_width": null,
            "min_height": null,
            "min_width": null,
            "object_fit": null,
            "object_position": null,
            "order": null,
            "overflow": null,
            "overflow_x": null,
            "overflow_y": null,
            "padding": null,
            "right": null,
            "top": null,
            "visibility": null,
            "width": null
          }
        },
        "1331aa3406904148be22870311958a70": {
          "model_module": "@jupyter-widgets/controls",
          "model_module_version": "1.5.0",
          "model_name": "DescriptionStyleModel",
          "state": {
            "_model_module": "@jupyter-widgets/controls",
            "_model_module_version": "1.5.0",
            "_model_name": "DescriptionStyleModel",
            "_view_count": null,
            "_view_module": "@jupyter-widgets/base",
            "_view_module_version": "1.2.0",
            "_view_name": "StyleView",
            "description_width": ""
          }
        },
        "13e29147b2d84a8da03d6197cf93930a": {
          "model_module": "@jupyter-widgets/controls",
          "model_module_version": "1.5.0",
          "model_name": "ProgressStyleModel",
          "state": {
            "_model_module": "@jupyter-widgets/controls",
            "_model_module_version": "1.5.0",
            "_model_name": "ProgressStyleModel",
            "_view_count": null,
            "_view_module": "@jupyter-widgets/base",
            "_view_module_version": "1.2.0",
            "_view_name": "StyleView",
            "bar_color": null,
            "description_width": ""
          }
        },
        "149f8e8e5e834d1d82b706289ff9c888": {
          "model_module": "@jupyter-widgets/controls",
          "model_module_version": "1.5.0",
          "model_name": "ProgressStyleModel",
          "state": {
            "_model_module": "@jupyter-widgets/controls",
            "_model_module_version": "1.5.0",
            "_model_name": "ProgressStyleModel",
            "_view_count": null,
            "_view_module": "@jupyter-widgets/base",
            "_view_module_version": "1.2.0",
            "_view_name": "StyleView",
            "bar_color": null,
            "description_width": ""
          }
        },
        "14a7fc95bcfd4f91aeb454f69258ecfe": {
          "model_module": "@jupyter-widgets/controls",
          "model_module_version": "1.5.0",
          "model_name": "ProgressStyleModel",
          "state": {
            "_model_module": "@jupyter-widgets/controls",
            "_model_module_version": "1.5.0",
            "_model_name": "ProgressStyleModel",
            "_view_count": null,
            "_view_module": "@jupyter-widgets/base",
            "_view_module_version": "1.2.0",
            "_view_name": "StyleView",
            "bar_color": null,
            "description_width": ""
          }
        },
        "150ff5bc84c747229a3eb4b31daf100c": {
          "model_module": "@jupyter-widgets/controls",
          "model_module_version": "1.5.0",
          "model_name": "HTMLModel",
          "state": {
            "_dom_classes": [],
            "_model_module": "@jupyter-widgets/controls",
            "_model_module_version": "1.5.0",
            "_model_name": "HTMLModel",
            "_view_count": null,
            "_view_module": "@jupyter-widgets/controls",
            "_view_module_version": "1.5.0",
            "_view_name": "HTMLView",
            "description": "",
            "description_tooltip": null,
            "layout": "IPY_MODEL_95e5bf2cf02e4e90b4cb3c9fc496c458",
            "placeholder": "​",
            "style": "IPY_MODEL_b81fbe3228b84167aef094653593a9ac",
            "value": " 1.44k/? [00:00&lt;00:00, 82.9kB/s]"
          }
        },
        "1643d530885148a18b9f407c340b9db8": {
          "model_module": "@jupyter-widgets/controls",
          "model_module_version": "1.5.0",
          "model_name": "HTMLModel",
          "state": {
            "_dom_classes": [],
            "_model_module": "@jupyter-widgets/controls",
            "_model_module_version": "1.5.0",
            "_model_name": "HTMLModel",
            "_view_count": null,
            "_view_module": "@jupyter-widgets/controls",
            "_view_module_version": "1.5.0",
            "_view_name": "HTMLView",
            "description": "",
            "description_tooltip": null,
            "layout": "IPY_MODEL_93835140508f46b8ab0e5017e2bcfc0a",
            "placeholder": "​",
            "style": "IPY_MODEL_7fff80386f5444498db5d960f2612d48",
            "value": " 5000/5000 [02:21&lt;00:00, 43.38it/s]"
          }
        },
        "18ae3488452743bfbc0d7a51468e7440": {
          "model_module": "@jupyter-widgets/controls",
          "model_module_version": "1.5.0",
          "model_name": "HBoxModel",
          "state": {
            "_dom_classes": [],
            "_model_module": "@jupyter-widgets/controls",
            "_model_module_version": "1.5.0",
            "_model_name": "HBoxModel",
            "_view_count": null,
            "_view_module": "@jupyter-widgets/controls",
            "_view_module_version": "1.5.0",
            "_view_name": "HBoxView",
            "box_style": "",
            "children": [
              "IPY_MODEL_8cf250a53c9641deab549666ff0202d7",
              "IPY_MODEL_9bfb1a7f242b4ae391ba8ac8424eeb66",
              "IPY_MODEL_3524a9b3eb0b4e7196ee2ef2e6282523"
            ],
            "layout": "IPY_MODEL_eff7f723e536447a83443e5586bde19f"
          }
        },
        "1b897337c1ce43ea8a4f6c26270c82b4": {
          "model_module": "@jupyter-widgets/controls",
          "model_module_version": "1.5.0",
          "model_name": "FloatProgressModel",
          "state": {
            "_dom_classes": [],
            "_model_module": "@jupyter-widgets/controls",
            "_model_module_version": "1.5.0",
            "_model_name": "FloatProgressModel",
            "_view_count": null,
            "_view_module": "@jupyter-widgets/controls",
            "_view_module_version": "1.5.0",
            "_view_name": "ProgressView",
            "bar_style": "success",
            "description": "",
            "description_tooltip": null,
            "layout": "IPY_MODEL_76a1fa33d9424685b1bb73b9da419393",
            "max": 1,
            "min": 0,
            "orientation": "horizontal",
            "style": "IPY_MODEL_149f8e8e5e834d1d82b706289ff9c888",
            "value": 1
          }
        },
        "1e3b7a0105f543c082aa3ab763b0b22a": {
          "model_module": "@jupyter-widgets/base",
          "model_module_version": "1.2.0",
          "model_name": "LayoutModel",
          "state": {
            "_model_module": "@jupyter-widgets/base",
            "_model_module_version": "1.2.0",
            "_model_name": "LayoutModel",
            "_view_count": null,
            "_view_module": "@jupyter-widgets/base",
            "_view_module_version": "1.2.0",
            "_view_name": "LayoutView",
            "align_content": null,
            "align_items": null,
            "align_self": null,
            "border": null,
            "bottom": null,
            "display": null,
            "flex": null,
            "flex_flow": null,
            "grid_area": null,
            "grid_auto_columns": null,
            "grid_auto_flow": null,
            "grid_auto_rows": null,
            "grid_column": null,
            "grid_gap": null,
            "grid_row": null,
            "grid_template_areas": null,
            "grid_template_columns": null,
            "grid_template_rows": null,
            "height": null,
            "justify_content": null,
            "justify_items": null,
            "left": null,
            "margin": null,
            "max_height": null,
            "max_width": null,
            "min_height": null,
            "min_width": null,
            "object_fit": null,
            "object_position": null,
            "order": null,
            "overflow": null,
            "overflow_x": null,
            "overflow_y": null,
            "padding": null,
            "right": null,
            "top": null,
            "visibility": null,
            "width": null
          }
        },
        "242dd0568e7848c086fc7d0ef9740225": {
          "model_module": "@jupyter-widgets/controls",
          "model_module_version": "1.5.0",
          "model_name": "DescriptionStyleModel",
          "state": {
            "_model_module": "@jupyter-widgets/controls",
            "_model_module_version": "1.5.0",
            "_model_name": "DescriptionStyleModel",
            "_view_count": null,
            "_view_module": "@jupyter-widgets/base",
            "_view_module_version": "1.2.0",
            "_view_name": "StyleView",
            "description_width": ""
          }
        },
        "271b8e90e87c4ef38769e9f1be0c08f8": {
          "model_module": "@jupyter-widgets/controls",
          "model_module_version": "1.5.0",
          "model_name": "FloatProgressModel",
          "state": {
            "_dom_classes": [],
            "_model_module": "@jupyter-widgets/controls",
            "_model_module_version": "1.5.0",
            "_model_name": "FloatProgressModel",
            "_view_count": null,
            "_view_module": "@jupyter-widgets/controls",
            "_view_module_version": "1.5.0",
            "_view_name": "ProgressView",
            "bar_style": "success",
            "description": "",
            "description_tooltip": null,
            "layout": "IPY_MODEL_1e3b7a0105f543c082aa3ab763b0b22a",
            "max": 605143284,
            "min": 0,
            "orientation": "horizontal",
            "style": "IPY_MODEL_fce1acfb397844f8939cfad2562e93eb",
            "value": 605143284
          }
        },
        "293a050a21af4589b973cf95b45faaa5": {
          "model_module": "@jupyter-widgets/base",
          "model_module_version": "1.2.0",
          "model_name": "LayoutModel",
          "state": {
            "_model_module": "@jupyter-widgets/base",
            "_model_module_version": "1.2.0",
            "_model_name": "LayoutModel",
            "_view_count": null,
            "_view_module": "@jupyter-widgets/base",
            "_view_module_version": "1.2.0",
            "_view_name": "LayoutView",
            "align_content": null,
            "align_items": null,
            "align_self": null,
            "border": null,
            "bottom": null,
            "display": null,
            "flex": null,
            "flex_flow": null,
            "grid_area": null,
            "grid_auto_columns": null,
            "grid_auto_flow": null,
            "grid_auto_rows": null,
            "grid_column": null,
            "grid_gap": null,
            "grid_row": null,
            "grid_template_areas": null,
            "grid_template_columns": null,
            "grid_template_rows": null,
            "height": null,
            "justify_content": null,
            "justify_items": null,
            "left": null,
            "margin": null,
            "max_height": null,
            "max_width": null,
            "min_height": null,
            "min_width": null,
            "object_fit": null,
            "object_position": null,
            "order": null,
            "overflow": null,
            "overflow_x": null,
            "overflow_y": null,
            "padding": null,
            "right": null,
            "top": null,
            "visibility": null,
            "width": null
          }
        },
        "2dd1aa667df447e79cf3a598a5f63226": {
          "model_module": "@jupyter-widgets/controls",
          "model_module_version": "1.5.0",
          "model_name": "DescriptionStyleModel",
          "state": {
            "_model_module": "@jupyter-widgets/controls",
            "_model_module_version": "1.5.0",
            "_model_name": "DescriptionStyleModel",
            "_view_count": null,
            "_view_module": "@jupyter-widgets/base",
            "_view_module_version": "1.2.0",
            "_view_name": "StyleView",
            "description_width": ""
          }
        },
        "30f738a3660b4609a3004cb95efd28a0": {
          "model_module": "@jupyter-widgets/controls",
          "model_module_version": "1.5.0",
          "model_name": "HTMLModel",
          "state": {
            "_dom_classes": [],
            "_model_module": "@jupyter-widgets/controls",
            "_model_module_version": "1.5.0",
            "_model_name": "HTMLModel",
            "_view_count": null,
            "_view_module": "@jupyter-widgets/controls",
            "_view_module_version": "1.5.0",
            "_view_name": "HTMLView",
            "description": "",
            "description_tooltip": null,
            "layout": "IPY_MODEL_f2cf13a7fdee438d872e33625abe6d5e",
            "placeholder": "​",
            "style": "IPY_MODEL_bc9ddaaacd85450f8143903dba362ba1",
            "value": "open_clip_model.safetensors: 100%"
          }
        },
        "3524a9b3eb0b4e7196ee2ef2e6282523": {
          "model_module": "@jupyter-widgets/controls",
          "model_module_version": "1.5.0",
          "model_name": "HTMLModel",
          "state": {
            "_dom_classes": [],
            "_model_module": "@jupyter-widgets/controls",
            "_model_module_version": "1.5.0",
            "_model_name": "HTMLModel",
            "_view_count": null,
            "_view_module": "@jupyter-widgets/controls",
            "_view_module_version": "1.5.0",
            "_view_name": "HTMLView",
            "description": "",
            "description_tooltip": null,
            "layout": "IPY_MODEL_3aab1c02feef4a4d8042540089ef1ae5",
            "placeholder": "​",
            "style": "IPY_MODEL_efc0048743844b4c815c9d25abbf8f47",
            "value": " 5000/5000 [00:11&lt;00:00, 614.74 examples/s]"
          }
        },
        "373d99bb70324f98b0c6fe224739d56a": {
          "model_module": "@jupyter-widgets/base",
          "model_module_version": "1.2.0",
          "model_name": "LayoutModel",
          "state": {
            "_model_module": "@jupyter-widgets/base",
            "_model_module_version": "1.2.0",
            "_model_name": "LayoutModel",
            "_view_count": null,
            "_view_module": "@jupyter-widgets/base",
            "_view_module_version": "1.2.0",
            "_view_name": "LayoutView",
            "align_content": null,
            "align_items": null,
            "align_self": null,
            "border": null,
            "bottom": null,
            "display": null,
            "flex": null,
            "flex_flow": null,
            "grid_area": null,
            "grid_auto_columns": null,
            "grid_auto_flow": null,
            "grid_auto_rows": null,
            "grid_column": null,
            "grid_gap": null,
            "grid_row": null,
            "grid_template_areas": null,
            "grid_template_columns": null,
            "grid_template_rows": null,
            "height": null,
            "justify_content": null,
            "justify_items": null,
            "left": null,
            "margin": null,
            "max_height": null,
            "max_width": null,
            "min_height": null,
            "min_width": null,
            "object_fit": null,
            "object_position": null,
            "order": null,
            "overflow": null,
            "overflow_x": null,
            "overflow_y": null,
            "padding": null,
            "right": null,
            "top": null,
            "visibility": null,
            "width": null
          }
        },
        "38ee6b660abd4ebf9ecefeb4a3eee1f9": {
          "model_module": "@jupyter-widgets/controls",
          "model_module_version": "1.5.0",
          "model_name": "ProgressStyleModel",
          "state": {
            "_model_module": "@jupyter-widgets/controls",
            "_model_module_version": "1.5.0",
            "_model_name": "ProgressStyleModel",
            "_view_count": null,
            "_view_module": "@jupyter-widgets/base",
            "_view_module_version": "1.2.0",
            "_view_name": "StyleView",
            "bar_color": null,
            "description_width": ""
          }
        },
        "3aab1c02feef4a4d8042540089ef1ae5": {
          "model_module": "@jupyter-widgets/base",
          "model_module_version": "1.2.0",
          "model_name": "LayoutModel",
          "state": {
            "_model_module": "@jupyter-widgets/base",
            "_model_module_version": "1.2.0",
            "_model_name": "LayoutModel",
            "_view_count": null,
            "_view_module": "@jupyter-widgets/base",
            "_view_module_version": "1.2.0",
            "_view_name": "LayoutView",
            "align_content": null,
            "align_items": null,
            "align_self": null,
            "border": null,
            "bottom": null,
            "display": null,
            "flex": null,
            "flex_flow": null,
            "grid_area": null,
            "grid_auto_columns": null,
            "grid_auto_flow": null,
            "grid_auto_rows": null,
            "grid_column": null,
            "grid_gap": null,
            "grid_row": null,
            "grid_template_areas": null,
            "grid_template_columns": null,
            "grid_template_rows": null,
            "height": null,
            "justify_content": null,
            "justify_items": null,
            "left": null,
            "margin": null,
            "max_height": null,
            "max_width": null,
            "min_height": null,
            "min_width": null,
            "object_fit": null,
            "object_position": null,
            "order": null,
            "overflow": null,
            "overflow_x": null,
            "overflow_y": null,
            "padding": null,
            "right": null,
            "top": null,
            "visibility": null,
            "width": null
          }
        },
        "3ca1fb8353754f85b50b231d18f82b95": {
          "model_module": "@jupyter-widgets/base",
          "model_module_version": "1.2.0",
          "model_name": "LayoutModel",
          "state": {
            "_model_module": "@jupyter-widgets/base",
            "_model_module_version": "1.2.0",
            "_model_name": "LayoutModel",
            "_view_count": null,
            "_view_module": "@jupyter-widgets/base",
            "_view_module_version": "1.2.0",
            "_view_name": "LayoutView",
            "align_content": null,
            "align_items": null,
            "align_self": null,
            "border": null,
            "bottom": null,
            "display": null,
            "flex": null,
            "flex_flow": null,
            "grid_area": null,
            "grid_auto_columns": null,
            "grid_auto_flow": null,
            "grid_auto_rows": null,
            "grid_column": null,
            "grid_gap": null,
            "grid_row": null,
            "grid_template_areas": null,
            "grid_template_columns": null,
            "grid_template_rows": null,
            "height": null,
            "justify_content": null,
            "justify_items": null,
            "left": null,
            "margin": null,
            "max_height": null,
            "max_width": null,
            "min_height": null,
            "min_width": null,
            "object_fit": null,
            "object_position": null,
            "order": null,
            "overflow": null,
            "overflow_x": null,
            "overflow_y": null,
            "padding": null,
            "right": null,
            "top": null,
            "visibility": null,
            "width": null
          }
        },
        "3e134342641c42d3a2d817a1cb4e8b81": {
          "model_module": "@jupyter-widgets/controls",
          "model_module_version": "1.5.0",
          "model_name": "HTMLModel",
          "state": {
            "_dom_classes": [],
            "_model_module": "@jupyter-widgets/controls",
            "_model_module_version": "1.5.0",
            "_model_name": "HTMLModel",
            "_view_count": null,
            "_view_module": "@jupyter-widgets/controls",
            "_view_module_version": "1.5.0",
            "_view_name": "HTMLView",
            "description": "",
            "description_tooltip": null,
            "layout": "IPY_MODEL_b0996c5d933241bfbed84e72f6285b11",
            "placeholder": "​",
            "style": "IPY_MODEL_1331aa3406904148be22870311958a70",
            "value": "Extracting longest sentences: 100%"
          }
        },
        "3e8d889f9aed4921a51f19466f61268d": {
          "model_module": "@jupyter-widgets/base",
          "model_module_version": "1.2.0",
          "model_name": "LayoutModel",
          "state": {
            "_model_module": "@jupyter-widgets/base",
            "_model_module_version": "1.2.0",
            "_model_name": "LayoutModel",
            "_view_count": null,
            "_view_module": "@jupyter-widgets/base",
            "_view_module_version": "1.2.0",
            "_view_name": "LayoutView",
            "align_content": null,
            "align_items": null,
            "align_self": null,
            "border": null,
            "bottom": null,
            "display": null,
            "flex": null,
            "flex_flow": null,
            "grid_area": null,
            "grid_auto_columns": null,
            "grid_auto_flow": null,
            "grid_auto_rows": null,
            "grid_column": null,
            "grid_gap": null,
            "grid_row": null,
            "grid_template_areas": null,
            "grid_template_columns": null,
            "grid_template_rows": null,
            "height": null,
            "justify_content": null,
            "justify_items": null,
            "left": null,
            "margin": null,
            "max_height": null,
            "max_width": null,
            "min_height": null,
            "min_width": null,
            "object_fit": null,
            "object_position": null,
            "order": null,
            "overflow": null,
            "overflow_x": null,
            "overflow_y": null,
            "padding": null,
            "right": null,
            "top": null,
            "visibility": null,
            "width": null
          }
        },
        "3e8f827421b246cd85f556242e4f5d53": {
          "model_module": "@jupyter-widgets/controls",
          "model_module_version": "1.5.0",
          "model_name": "DescriptionStyleModel",
          "state": {
            "_model_module": "@jupyter-widgets/controls",
            "_model_module_version": "1.5.0",
            "_model_name": "DescriptionStyleModel",
            "_view_count": null,
            "_view_module": "@jupyter-widgets/base",
            "_view_module_version": "1.2.0",
            "_view_name": "StyleView",
            "description_width": ""
          }
        },
        "3f15a93d1079432f90fca76c09062de8": {
          "model_module": "@jupyter-widgets/controls",
          "model_module_version": "1.5.0",
          "model_name": "HBoxModel",
          "state": {
            "_dom_classes": [],
            "_model_module": "@jupyter-widgets/controls",
            "_model_module_version": "1.5.0",
            "_model_name": "HBoxModel",
            "_view_count": null,
            "_view_module": "@jupyter-widgets/controls",
            "_view_module_version": "1.5.0",
            "_view_name": "HBoxView",
            "box_style": "",
            "children": [
              "IPY_MODEL_c2176250c5dc493db2aadbf8735e28cb",
              "IPY_MODEL_dd81c8838cb64570988c3f59a7f5adf1",
              "IPY_MODEL_ba2991aab6b14fbea620db19c7d26544"
            ],
            "layout": "IPY_MODEL_cd67ce3afda64c3985a9498830fc3e99"
          }
        },
        "40a4d60992bc4b309c277a4c9b0f5295": {
          "model_module": "@jupyter-widgets/base",
          "model_module_version": "1.2.0",
          "model_name": "LayoutModel",
          "state": {
            "_model_module": "@jupyter-widgets/base",
            "_model_module_version": "1.2.0",
            "_model_name": "LayoutModel",
            "_view_count": null,
            "_view_module": "@jupyter-widgets/base",
            "_view_module_version": "1.2.0",
            "_view_name": "LayoutView",
            "align_content": null,
            "align_items": null,
            "align_self": null,
            "border": null,
            "bottom": null,
            "display": null,
            "flex": null,
            "flex_flow": null,
            "grid_area": null,
            "grid_auto_columns": null,
            "grid_auto_flow": null,
            "grid_auto_rows": null,
            "grid_column": null,
            "grid_gap": null,
            "grid_row": null,
            "grid_template_areas": null,
            "grid_template_columns": null,
            "grid_template_rows": null,
            "height": null,
            "justify_content": null,
            "justify_items": null,
            "left": null,
            "margin": null,
            "max_height": null,
            "max_width": null,
            "min_height": null,
            "min_width": null,
            "object_fit": null,
            "object_position": null,
            "order": null,
            "overflow": null,
            "overflow_x": null,
            "overflow_y": null,
            "padding": null,
            "right": null,
            "top": null,
            "visibility": null,
            "width": null
          }
        },
        "438fa05a3f254aab85fda5861ccd1a93": {
          "model_module": "@jupyter-widgets/controls",
          "model_module_version": "1.5.0",
          "model_name": "HTMLModel",
          "state": {
            "_dom_classes": [],
            "_model_module": "@jupyter-widgets/controls",
            "_model_module_version": "1.5.0",
            "_model_name": "HTMLModel",
            "_view_count": null,
            "_view_module": "@jupyter-widgets/controls",
            "_view_module_version": "1.5.0",
            "_view_name": "HTMLView",
            "description": "",
            "description_tooltip": null,
            "layout": "IPY_MODEL_3e8d889f9aed4921a51f19466f61268d",
            "placeholder": "​",
            "style": "IPY_MODEL_59ad18a0938142e282dbe57f415ed042",
            "value": " 413M/413M [00:06&lt;00:00, 135MB/s]"
          }
        },
        "456954d15817460aa77b3d7b1138917b": {
          "model_module": "@jupyter-widgets/base",
          "model_module_version": "1.2.0",
          "model_name": "LayoutModel",
          "state": {
            "_model_module": "@jupyter-widgets/base",
            "_model_module_version": "1.2.0",
            "_model_name": "LayoutModel",
            "_view_count": null,
            "_view_module": "@jupyter-widgets/base",
            "_view_module_version": "1.2.0",
            "_view_name": "LayoutView",
            "align_content": null,
            "align_items": null,
            "align_self": null,
            "border": null,
            "bottom": null,
            "display": null,
            "flex": null,
            "flex_flow": null,
            "grid_area": null,
            "grid_auto_columns": null,
            "grid_auto_flow": null,
            "grid_auto_rows": null,
            "grid_column": null,
            "grid_gap": null,
            "grid_row": null,
            "grid_template_areas": null,
            "grid_template_columns": null,
            "grid_template_rows": null,
            "height": null,
            "justify_content": null,
            "justify_items": null,
            "left": null,
            "margin": null,
            "max_height": null,
            "max_width": null,
            "min_height": null,
            "min_width": null,
            "object_fit": null,
            "object_position": null,
            "order": null,
            "overflow": null,
            "overflow_x": null,
            "overflow_y": null,
            "padding": null,
            "right": null,
            "top": null,
            "visibility": null,
            "width": null
          }
        },
        "47e2793c934b469a8f0144386d6615e4": {
          "model_module": "@jupyter-widgets/controls",
          "model_module_version": "1.5.0",
          "model_name": "HBoxModel",
          "state": {
            "_dom_classes": [],
            "_model_module": "@jupyter-widgets/controls",
            "_model_module_version": "1.5.0",
            "_model_name": "HBoxModel",
            "_view_count": null,
            "_view_module": "@jupyter-widgets/controls",
            "_view_module_version": "1.5.0",
            "_view_name": "HBoxView",
            "box_style": "",
            "children": [
              "IPY_MODEL_4d5fcb816fb04454b0d8b561e9485153",
              "IPY_MODEL_bcb93bd901234327886010fea02c502c",
              "IPY_MODEL_438fa05a3f254aab85fda5861ccd1a93"
            ],
            "layout": "IPY_MODEL_6bf5e8360a1448e68e3344485bf0a6c7"
          }
        },
        "485707b9f399443a9087a71ced60dac2": {
          "model_module": "@jupyter-widgets/base",
          "model_module_version": "1.2.0",
          "model_name": "LayoutModel",
          "state": {
            "_model_module": "@jupyter-widgets/base",
            "_model_module_version": "1.2.0",
            "_model_name": "LayoutModel",
            "_view_count": null,
            "_view_module": "@jupyter-widgets/base",
            "_view_module_version": "1.2.0",
            "_view_name": "LayoutView",
            "align_content": null,
            "align_items": null,
            "align_self": null,
            "border": null,
            "bottom": null,
            "display": null,
            "flex": null,
            "flex_flow": null,
            "grid_area": null,
            "grid_auto_columns": null,
            "grid_auto_flow": null,
            "grid_auto_rows": null,
            "grid_column": null,
            "grid_gap": null,
            "grid_row": null,
            "grid_template_areas": null,
            "grid_template_columns": null,
            "grid_template_rows": null,
            "height": null,
            "justify_content": null,
            "justify_items": null,
            "left": null,
            "margin": null,
            "max_height": null,
            "max_width": null,
            "min_height": null,
            "min_width": null,
            "object_fit": null,
            "object_position": null,
            "order": null,
            "overflow": null,
            "overflow_x": null,
            "overflow_y": null,
            "padding": null,
            "right": null,
            "top": null,
            "visibility": null,
            "width": null
          }
        },
        "4d5fcb816fb04454b0d8b561e9485153": {
          "model_module": "@jupyter-widgets/controls",
          "model_module_version": "1.5.0",
          "model_name": "HTMLModel",
          "state": {
            "_dom_classes": [],
            "_model_module": "@jupyter-widgets/controls",
            "_model_module_version": "1.5.0",
            "_model_name": "HTMLModel",
            "_view_count": null,
            "_view_module": "@jupyter-widgets/controls",
            "_view_module_version": "1.5.0",
            "_view_name": "HTMLView",
            "description": "",
            "description_tooltip": null,
            "layout": "IPY_MODEL_522590de8a794ab38cccd0ebfc43ea4b",
            "placeholder": "​",
            "style": "IPY_MODEL_deee0ff329c04ac78e703f972e0bf8d9",
            "value": "data/test-00001-of-00002-dc43b445e1598d9(…): 100%"
          }
        },
        "522590de8a794ab38cccd0ebfc43ea4b": {
          "model_module": "@jupyter-widgets/base",
          "model_module_version": "1.2.0",
          "model_name": "LayoutModel",
          "state": {
            "_model_module": "@jupyter-widgets/base",
            "_model_module_version": "1.2.0",
            "_model_name": "LayoutModel",
            "_view_count": null,
            "_view_module": "@jupyter-widgets/base",
            "_view_module_version": "1.2.0",
            "_view_name": "LayoutView",
            "align_content": null,
            "align_items": null,
            "align_self": null,
            "border": null,
            "bottom": null,
            "display": null,
            "flex": null,
            "flex_flow": null,
            "grid_area": null,
            "grid_auto_columns": null,
            "grid_auto_flow": null,
            "grid_auto_rows": null,
            "grid_column": null,
            "grid_gap": null,
            "grid_row": null,
            "grid_template_areas": null,
            "grid_template_columns": null,
            "grid_template_rows": null,
            "height": null,
            "justify_content": null,
            "justify_items": null,
            "left": null,
            "margin": null,
            "max_height": null,
            "max_width": null,
            "min_height": null,
            "min_width": null,
            "object_fit": null,
            "object_position": null,
            "order": null,
            "overflow": null,
            "overflow_x": null,
            "overflow_y": null,
            "padding": null,
            "right": null,
            "top": null,
            "visibility": null,
            "width": null
          }
        },
        "56d45206303a40eea82f8b74104ff7a4": {
          "model_module": "@jupyter-widgets/controls",
          "model_module_version": "1.5.0",
          "model_name": "FloatProgressModel",
          "state": {
            "_dom_classes": [],
            "_model_module": "@jupyter-widgets/controls",
            "_model_module_version": "1.5.0",
            "_model_name": "FloatProgressModel",
            "_view_count": null,
            "_view_module": "@jupyter-widgets/controls",
            "_view_module_version": "1.5.0",
            "_view_name": "ProgressView",
            "bar_style": "success",
            "description": "",
            "description_tooltip": null,
            "layout": "IPY_MODEL_293a050a21af4589b973cf95b45faaa5",
            "max": 5000,
            "min": 0,
            "orientation": "horizontal",
            "style": "IPY_MODEL_13e29147b2d84a8da03d6197cf93930a",
            "value": 5000
          }
        },
        "59ad18a0938142e282dbe57f415ed042": {
          "model_module": "@jupyter-widgets/controls",
          "model_module_version": "1.5.0",
          "model_name": "DescriptionStyleModel",
          "state": {
            "_model_module": "@jupyter-widgets/controls",
            "_model_module_version": "1.5.0",
            "_model_name": "DescriptionStyleModel",
            "_view_count": null,
            "_view_module": "@jupyter-widgets/base",
            "_view_module_version": "1.2.0",
            "_view_name": "StyleView",
            "description_width": ""
          }
        },
        "67d2d957d2c14fe286e0fafa3a93b00d": {
          "model_module": "@jupyter-widgets/base",
          "model_module_version": "1.2.0",
          "model_name": "LayoutModel",
          "state": {
            "_model_module": "@jupyter-widgets/base",
            "_model_module_version": "1.2.0",
            "_model_name": "LayoutModel",
            "_view_count": null,
            "_view_module": "@jupyter-widgets/base",
            "_view_module_version": "1.2.0",
            "_view_name": "LayoutView",
            "align_content": null,
            "align_items": null,
            "align_self": null,
            "border": null,
            "bottom": null,
            "display": null,
            "flex": null,
            "flex_flow": null,
            "grid_area": null,
            "grid_auto_columns": null,
            "grid_auto_flow": null,
            "grid_auto_rows": null,
            "grid_column": null,
            "grid_gap": null,
            "grid_row": null,
            "grid_template_areas": null,
            "grid_template_columns": null,
            "grid_template_rows": null,
            "height": null,
            "justify_content": null,
            "justify_items": null,
            "left": null,
            "margin": null,
            "max_height": null,
            "max_width": null,
            "min_height": null,
            "min_width": null,
            "object_fit": null,
            "object_position": null,
            "order": null,
            "overflow": null,
            "overflow_x": null,
            "overflow_y": null,
            "padding": null,
            "right": null,
            "top": null,
            "visibility": null,
            "width": null
          }
        },
        "6bf5e8360a1448e68e3344485bf0a6c7": {
          "model_module": "@jupyter-widgets/base",
          "model_module_version": "1.2.0",
          "model_name": "LayoutModel",
          "state": {
            "_model_module": "@jupyter-widgets/base",
            "_model_module_version": "1.2.0",
            "_model_name": "LayoutModel",
            "_view_count": null,
            "_view_module": "@jupyter-widgets/base",
            "_view_module_version": "1.2.0",
            "_view_name": "LayoutView",
            "align_content": null,
            "align_items": null,
            "align_self": null,
            "border": null,
            "bottom": null,
            "display": null,
            "flex": null,
            "flex_flow": null,
            "grid_area": null,
            "grid_auto_columns": null,
            "grid_auto_flow": null,
            "grid_auto_rows": null,
            "grid_column": null,
            "grid_gap": null,
            "grid_row": null,
            "grid_template_areas": null,
            "grid_template_columns": null,
            "grid_template_rows": null,
            "height": null,
            "justify_content": null,
            "justify_items": null,
            "left": null,
            "margin": null,
            "max_height": null,
            "max_width": null,
            "min_height": null,
            "min_width": null,
            "object_fit": null,
            "object_position": null,
            "order": null,
            "overflow": null,
            "overflow_x": null,
            "overflow_y": null,
            "padding": null,
            "right": null,
            "top": null,
            "visibility": null,
            "width": null
          }
        },
        "6e60ca96ce6d4e348378a556e05f4e56": {
          "model_module": "@jupyter-widgets/controls",
          "model_module_version": "1.5.0",
          "model_name": "HBoxModel",
          "state": {
            "_dom_classes": [],
            "_model_module": "@jupyter-widgets/controls",
            "_model_module_version": "1.5.0",
            "_model_name": "HBoxModel",
            "_view_count": null,
            "_view_module": "@jupyter-widgets/controls",
            "_view_module_version": "1.5.0",
            "_view_name": "HBoxView",
            "box_style": "",
            "children": [
              "IPY_MODEL_f4fa3da7f5bc43b39bab2e02a4e3d1ee",
              "IPY_MODEL_1b897337c1ce43ea8a4f6c26270c82b4",
              "IPY_MODEL_150ff5bc84c747229a3eb4b31daf100c"
            ],
            "layout": "IPY_MODEL_e0a3b94020a349db85e14c7694d333f3"
          }
        },
        "76a1fa33d9424685b1bb73b9da419393": {
          "model_module": "@jupyter-widgets/base",
          "model_module_version": "1.2.0",
          "model_name": "LayoutModel",
          "state": {
            "_model_module": "@jupyter-widgets/base",
            "_model_module_version": "1.2.0",
            "_model_name": "LayoutModel",
            "_view_count": null,
            "_view_module": "@jupyter-widgets/base",
            "_view_module_version": "1.2.0",
            "_view_name": "LayoutView",
            "align_content": null,
            "align_items": null,
            "align_self": null,
            "border": null,
            "bottom": null,
            "display": null,
            "flex": null,
            "flex_flow": null,
            "grid_area": null,
            "grid_auto_columns": null,
            "grid_auto_flow": null,
            "grid_auto_rows": null,
            "grid_column": null,
            "grid_gap": null,
            "grid_row": null,
            "grid_template_areas": null,
            "grid_template_columns": null,
            "grid_template_rows": null,
            "height": null,
            "justify_content": null,
            "justify_items": null,
            "left": null,
            "margin": null,
            "max_height": null,
            "max_width": null,
            "min_height": null,
            "min_width": null,
            "object_fit": null,
            "object_position": null,
            "order": null,
            "overflow": null,
            "overflow_x": null,
            "overflow_y": null,
            "padding": null,
            "right": null,
            "top": null,
            "visibility": null,
            "width": "20px"
          }
        },
        "77a9dd742df5481298d212e670a4dcaf": {
          "model_module": "@jupyter-widgets/base",
          "model_module_version": "1.2.0",
          "model_name": "LayoutModel",
          "state": {
            "_model_module": "@jupyter-widgets/base",
            "_model_module_version": "1.2.0",
            "_model_name": "LayoutModel",
            "_view_count": null,
            "_view_module": "@jupyter-widgets/base",
            "_view_module_version": "1.2.0",
            "_view_name": "LayoutView",
            "align_content": null,
            "align_items": null,
            "align_self": null,
            "border": null,
            "bottom": null,
            "display": null,
            "flex": null,
            "flex_flow": null,
            "grid_area": null,
            "grid_auto_columns": null,
            "grid_auto_flow": null,
            "grid_auto_rows": null,
            "grid_column": null,
            "grid_gap": null,
            "grid_row": null,
            "grid_template_areas": null,
            "grid_template_columns": null,
            "grid_template_rows": null,
            "height": null,
            "justify_content": null,
            "justify_items": null,
            "left": null,
            "margin": null,
            "max_height": null,
            "max_width": null,
            "min_height": null,
            "min_width": null,
            "object_fit": null,
            "object_position": null,
            "order": null,
            "overflow": null,
            "overflow_x": null,
            "overflow_y": null,
            "padding": null,
            "right": null,
            "top": null,
            "visibility": null,
            "width": null
          }
        },
        "7865beb47cff4928a50e79bd2c543acb": {
          "model_module": "@jupyter-widgets/controls",
          "model_module_version": "1.5.0",
          "model_name": "HTMLModel",
          "state": {
            "_dom_classes": [],
            "_model_module": "@jupyter-widgets/controls",
            "_model_module_version": "1.5.0",
            "_model_name": "HTMLModel",
            "_view_count": null,
            "_view_module": "@jupyter-widgets/controls",
            "_view_module_version": "1.5.0",
            "_view_name": "HTMLView",
            "description": "",
            "description_tooltip": null,
            "layout": "IPY_MODEL_d0cabdd49dd64669b1b25b7e0b87ce12",
            "placeholder": "​",
            "style": "IPY_MODEL_242dd0568e7848c086fc7d0ef9740225",
            "value": " 5000/5000 [00:21&lt;00:00, 252.14it/s]"
          }
        },
        "79bc1860054f4eeaaa0a30f6ba25cba6": {
          "model_module": "@jupyter-widgets/controls",
          "model_module_version": "1.5.0",
          "model_name": "HBoxModel",
          "state": {
            "_dom_classes": [],
            "_model_module": "@jupyter-widgets/controls",
            "_model_module_version": "1.5.0",
            "_model_name": "HBoxModel",
            "_view_count": null,
            "_view_module": "@jupyter-widgets/controls",
            "_view_module_version": "1.5.0",
            "_view_name": "HBoxView",
            "box_style": "",
            "children": [
              "IPY_MODEL_3e134342641c42d3a2d817a1cb4e8b81",
              "IPY_MODEL_56d45206303a40eea82f8b74104ff7a4",
              "IPY_MODEL_7865beb47cff4928a50e79bd2c543acb"
            ],
            "layout": "IPY_MODEL_67d2d957d2c14fe286e0fafa3a93b00d"
          }
        },
        "7fff80386f5444498db5d960f2612d48": {
          "model_module": "@jupyter-widgets/controls",
          "model_module_version": "1.5.0",
          "model_name": "DescriptionStyleModel",
          "state": {
            "_model_module": "@jupyter-widgets/controls",
            "_model_module_version": "1.5.0",
            "_model_name": "DescriptionStyleModel",
            "_view_count": null,
            "_view_module": "@jupyter-widgets/base",
            "_view_module_version": "1.2.0",
            "_view_name": "StyleView",
            "description_width": ""
          }
        },
        "8cf250a53c9641deab549666ff0202d7": {
          "model_module": "@jupyter-widgets/controls",
          "model_module_version": "1.5.0",
          "model_name": "HTMLModel",
          "state": {
            "_dom_classes": [],
            "_model_module": "@jupyter-widgets/controls",
            "_model_module_version": "1.5.0",
            "_model_name": "HTMLModel",
            "_view_count": null,
            "_view_module": "@jupyter-widgets/controls",
            "_view_module_version": "1.5.0",
            "_view_name": "HTMLView",
            "description": "",
            "description_tooltip": null,
            "layout": "IPY_MODEL_b4ca7bd7080d4638bc07e12f89513919",
            "placeholder": "​",
            "style": "IPY_MODEL_0601cfc540464a23bf260348d32f9f9a",
            "value": "Generating test split: 100%"
          }
        },
        "8fe5a2d729854d5b8ecb6853b7c0f8c9": {
          "model_module": "@jupyter-widgets/base",
          "model_module_version": "1.2.0",
          "model_name": "LayoutModel",
          "state": {
            "_model_module": "@jupyter-widgets/base",
            "_model_module_version": "1.2.0",
            "_model_name": "LayoutModel",
            "_view_count": null,
            "_view_module": "@jupyter-widgets/base",
            "_view_module_version": "1.2.0",
            "_view_name": "LayoutView",
            "align_content": null,
            "align_items": null,
            "align_self": null,
            "border": null,
            "bottom": null,
            "display": null,
            "flex": null,
            "flex_flow": null,
            "grid_area": null,
            "grid_auto_columns": null,
            "grid_auto_flow": null,
            "grid_auto_rows": null,
            "grid_column": null,
            "grid_gap": null,
            "grid_row": null,
            "grid_template_areas": null,
            "grid_template_columns": null,
            "grid_template_rows": null,
            "height": null,
            "justify_content": null,
            "justify_items": null,
            "left": null,
            "margin": null,
            "max_height": null,
            "max_width": null,
            "min_height": null,
            "min_width": null,
            "object_fit": null,
            "object_position": null,
            "order": null,
            "overflow": null,
            "overflow_x": null,
            "overflow_y": null,
            "padding": null,
            "right": null,
            "top": null,
            "visibility": null,
            "width": null
          }
        },
        "93835140508f46b8ab0e5017e2bcfc0a": {
          "model_module": "@jupyter-widgets/base",
          "model_module_version": "1.2.0",
          "model_name": "LayoutModel",
          "state": {
            "_model_module": "@jupyter-widgets/base",
            "_model_module_version": "1.2.0",
            "_model_name": "LayoutModel",
            "_view_count": null,
            "_view_module": "@jupyter-widgets/base",
            "_view_module_version": "1.2.0",
            "_view_name": "LayoutView",
            "align_content": null,
            "align_items": null,
            "align_self": null,
            "border": null,
            "bottom": null,
            "display": null,
            "flex": null,
            "flex_flow": null,
            "grid_area": null,
            "grid_auto_columns": null,
            "grid_auto_flow": null,
            "grid_auto_rows": null,
            "grid_column": null,
            "grid_gap": null,
            "grid_row": null,
            "grid_template_areas": null,
            "grid_template_columns": null,
            "grid_template_rows": null,
            "height": null,
            "justify_content": null,
            "justify_items": null,
            "left": null,
            "margin": null,
            "max_height": null,
            "max_width": null,
            "min_height": null,
            "min_width": null,
            "object_fit": null,
            "object_position": null,
            "order": null,
            "overflow": null,
            "overflow_x": null,
            "overflow_y": null,
            "padding": null,
            "right": null,
            "top": null,
            "visibility": null,
            "width": null
          }
        },
        "95e5bf2cf02e4e90b4cb3c9fc496c458": {
          "model_module": "@jupyter-widgets/base",
          "model_module_version": "1.2.0",
          "model_name": "LayoutModel",
          "state": {
            "_model_module": "@jupyter-widgets/base",
            "_model_module_version": "1.2.0",
            "_model_name": "LayoutModel",
            "_view_count": null,
            "_view_module": "@jupyter-widgets/base",
            "_view_module_version": "1.2.0",
            "_view_name": "LayoutView",
            "align_content": null,
            "align_items": null,
            "align_self": null,
            "border": null,
            "bottom": null,
            "display": null,
            "flex": null,
            "flex_flow": null,
            "grid_area": null,
            "grid_auto_columns": null,
            "grid_auto_flow": null,
            "grid_auto_rows": null,
            "grid_column": null,
            "grid_gap": null,
            "grid_row": null,
            "grid_template_areas": null,
            "grid_template_columns": null,
            "grid_template_rows": null,
            "height": null,
            "justify_content": null,
            "justify_items": null,
            "left": null,
            "margin": null,
            "max_height": null,
            "max_width": null,
            "min_height": null,
            "min_width": null,
            "object_fit": null,
            "object_position": null,
            "order": null,
            "overflow": null,
            "overflow_x": null,
            "overflow_y": null,
            "padding": null,
            "right": null,
            "top": null,
            "visibility": null,
            "width": null
          }
        },
        "972ee39c917a4c7883b030bb602dc4e7": {
          "model_module": "@jupyter-widgets/controls",
          "model_module_version": "1.5.0",
          "model_name": "HTMLModel",
          "state": {
            "_dom_classes": [],
            "_model_module": "@jupyter-widgets/controls",
            "_model_module_version": "1.5.0",
            "_model_name": "HTMLModel",
            "_view_count": null,
            "_view_module": "@jupyter-widgets/controls",
            "_view_module_version": "1.5.0",
            "_view_name": "HTMLView",
            "description": "",
            "description_tooltip": null,
            "layout": "IPY_MODEL_373d99bb70324f98b0c6fe224739d56a",
            "placeholder": "​",
            "style": "IPY_MODEL_b44c0f897d7d47ba8094f5a82f9eda23",
            "value": "Saving images: 100%"
          }
        },
        "9bfb1a7f242b4ae391ba8ac8424eeb66": {
          "model_module": "@jupyter-widgets/controls",
          "model_module_version": "1.5.0",
          "model_name": "FloatProgressModel",
          "state": {
            "_dom_classes": [],
            "_model_module": "@jupyter-widgets/controls",
            "_model_module_version": "1.5.0",
            "_model_name": "FloatProgressModel",
            "_view_count": null,
            "_view_module": "@jupyter-widgets/controls",
            "_view_module_version": "1.5.0",
            "_view_name": "ProgressView",
            "bar_style": "success",
            "description": "",
            "description_tooltip": null,
            "layout": "IPY_MODEL_456954d15817460aa77b3d7b1138917b",
            "max": 5000,
            "min": 0,
            "orientation": "horizontal",
            "style": "IPY_MODEL_38ee6b660abd4ebf9ecefeb4a3eee1f9",
            "value": 5000
          }
        },
        "a56b7b1cc2044979af3ef52934209d77": {
          "model_module": "@jupyter-widgets/controls",
          "model_module_version": "1.5.0",
          "model_name": "HTMLModel",
          "state": {
            "_dom_classes": [],
            "_model_module": "@jupyter-widgets/controls",
            "_model_module_version": "1.5.0",
            "_model_name": "HTMLModel",
            "_view_count": null,
            "_view_module": "@jupyter-widgets/controls",
            "_view_module_version": "1.5.0",
            "_view_name": "HTMLView",
            "description": "",
            "description_tooltip": null,
            "layout": "IPY_MODEL_40a4d60992bc4b309c277a4c9b0f5295",
            "placeholder": "​",
            "style": "IPY_MODEL_2dd1aa667df447e79cf3a598a5f63226",
            "value": " 605M/605M [00:07&lt;00:00, 126MB/s]"
          }
        },
        "a7e57ce0d1cc4202a520316d03d66823": {
          "model_module": "@jupyter-widgets/controls",
          "model_module_version": "1.5.0",
          "model_name": "ProgressStyleModel",
          "state": {
            "_model_module": "@jupyter-widgets/controls",
            "_model_module_version": "1.5.0",
            "_model_name": "ProgressStyleModel",
            "_view_count": null,
            "_view_module": "@jupyter-widgets/base",
            "_view_module_version": "1.2.0",
            "_view_name": "StyleView",
            "bar_color": null,
            "description_width": ""
          }
        },
        "aeef982a371347bcb031c2c93145183a": {
          "model_module": "@jupyter-widgets/base",
          "model_module_version": "1.2.0",
          "model_name": "LayoutModel",
          "state": {
            "_model_module": "@jupyter-widgets/base",
            "_model_module_version": "1.2.0",
            "_model_name": "LayoutModel",
            "_view_count": null,
            "_view_module": "@jupyter-widgets/base",
            "_view_module_version": "1.2.0",
            "_view_name": "LayoutView",
            "align_content": null,
            "align_items": null,
            "align_self": null,
            "border": null,
            "bottom": null,
            "display": null,
            "flex": null,
            "flex_flow": null,
            "grid_area": null,
            "grid_auto_columns": null,
            "grid_auto_flow": null,
            "grid_auto_rows": null,
            "grid_column": null,
            "grid_gap": null,
            "grid_row": null,
            "grid_template_areas": null,
            "grid_template_columns": null,
            "grid_template_rows": null,
            "height": null,
            "justify_content": null,
            "justify_items": null,
            "left": null,
            "margin": null,
            "max_height": null,
            "max_width": null,
            "min_height": null,
            "min_width": null,
            "object_fit": null,
            "object_position": null,
            "order": null,
            "overflow": null,
            "overflow_x": null,
            "overflow_y": null,
            "padding": null,
            "right": null,
            "top": null,
            "visibility": null,
            "width": null
          }
        },
        "b0996c5d933241bfbed84e72f6285b11": {
          "model_module": "@jupyter-widgets/base",
          "model_module_version": "1.2.0",
          "model_name": "LayoutModel",
          "state": {
            "_model_module": "@jupyter-widgets/base",
            "_model_module_version": "1.2.0",
            "_model_name": "LayoutModel",
            "_view_count": null,
            "_view_module": "@jupyter-widgets/base",
            "_view_module_version": "1.2.0",
            "_view_name": "LayoutView",
            "align_content": null,
            "align_items": null,
            "align_self": null,
            "border": null,
            "bottom": null,
            "display": null,
            "flex": null,
            "flex_flow": null,
            "grid_area": null,
            "grid_auto_columns": null,
            "grid_auto_flow": null,
            "grid_auto_rows": null,
            "grid_column": null,
            "grid_gap": null,
            "grid_row": null,
            "grid_template_areas": null,
            "grid_template_columns": null,
            "grid_template_rows": null,
            "height": null,
            "justify_content": null,
            "justify_items": null,
            "left": null,
            "margin": null,
            "max_height": null,
            "max_width": null,
            "min_height": null,
            "min_width": null,
            "object_fit": null,
            "object_position": null,
            "order": null,
            "overflow": null,
            "overflow_x": null,
            "overflow_y": null,
            "padding": null,
            "right": null,
            "top": null,
            "visibility": null,
            "width": null
          }
        },
        "b44c0f897d7d47ba8094f5a82f9eda23": {
          "model_module": "@jupyter-widgets/controls",
          "model_module_version": "1.5.0",
          "model_name": "DescriptionStyleModel",
          "state": {
            "_model_module": "@jupyter-widgets/controls",
            "_model_module_version": "1.5.0",
            "_model_name": "DescriptionStyleModel",
            "_view_count": null,
            "_view_module": "@jupyter-widgets/base",
            "_view_module_version": "1.2.0",
            "_view_name": "StyleView",
            "description_width": ""
          }
        },
        "b4ca7bd7080d4638bc07e12f89513919": {
          "model_module": "@jupyter-widgets/base",
          "model_module_version": "1.2.0",
          "model_name": "LayoutModel",
          "state": {
            "_model_module": "@jupyter-widgets/base",
            "_model_module_version": "1.2.0",
            "_model_name": "LayoutModel",
            "_view_count": null,
            "_view_module": "@jupyter-widgets/base",
            "_view_module_version": "1.2.0",
            "_view_name": "LayoutView",
            "align_content": null,
            "align_items": null,
            "align_self": null,
            "border": null,
            "bottom": null,
            "display": null,
            "flex": null,
            "flex_flow": null,
            "grid_area": null,
            "grid_auto_columns": null,
            "grid_auto_flow": null,
            "grid_auto_rows": null,
            "grid_column": null,
            "grid_gap": null,
            "grid_row": null,
            "grid_template_areas": null,
            "grid_template_columns": null,
            "grid_template_rows": null,
            "height": null,
            "justify_content": null,
            "justify_items": null,
            "left": null,
            "margin": null,
            "max_height": null,
            "max_width": null,
            "min_height": null,
            "min_width": null,
            "object_fit": null,
            "object_position": null,
            "order": null,
            "overflow": null,
            "overflow_x": null,
            "overflow_y": null,
            "padding": null,
            "right": null,
            "top": null,
            "visibility": null,
            "width": null
          }
        },
        "b81fbe3228b84167aef094653593a9ac": {
          "model_module": "@jupyter-widgets/controls",
          "model_module_version": "1.5.0",
          "model_name": "DescriptionStyleModel",
          "state": {
            "_model_module": "@jupyter-widgets/controls",
            "_model_module_version": "1.5.0",
            "_model_name": "DescriptionStyleModel",
            "_view_count": null,
            "_view_module": "@jupyter-widgets/base",
            "_view_module_version": "1.2.0",
            "_view_name": "StyleView",
            "description_width": ""
          }
        },
        "ba2991aab6b14fbea620db19c7d26544": {
          "model_module": "@jupyter-widgets/controls",
          "model_module_version": "1.5.0",
          "model_name": "HTMLModel",
          "state": {
            "_dom_classes": [],
            "_model_module": "@jupyter-widgets/controls",
            "_model_module_version": "1.5.0",
            "_model_name": "HTMLModel",
            "_view_count": null,
            "_view_module": "@jupyter-widgets/controls",
            "_view_module_version": "1.5.0",
            "_view_name": "HTMLView",
            "description": "",
            "description_tooltip": null,
            "layout": "IPY_MODEL_1303aff8077a42f480e9f19e0ca24b56",
            "placeholder": "​",
            "style": "IPY_MODEL_061b3666f7454d6bb711a4a29b2be5ea",
            "value": " 411M/411M [00:09&lt;00:00, 88.1MB/s]"
          }
        },
        "bc9ddaaacd85450f8143903dba362ba1": {
          "model_module": "@jupyter-widgets/controls",
          "model_module_version": "1.5.0",
          "model_name": "DescriptionStyleModel",
          "state": {
            "_model_module": "@jupyter-widgets/controls",
            "_model_module_version": "1.5.0",
            "_model_name": "DescriptionStyleModel",
            "_view_count": null,
            "_view_module": "@jupyter-widgets/base",
            "_view_module_version": "1.2.0",
            "_view_name": "StyleView",
            "description_width": ""
          }
        },
        "bcb93bd901234327886010fea02c502c": {
          "model_module": "@jupyter-widgets/controls",
          "model_module_version": "1.5.0",
          "model_name": "FloatProgressModel",
          "state": {
            "_dom_classes": [],
            "_model_module": "@jupyter-widgets/controls",
            "_model_module_version": "1.5.0",
            "_model_name": "FloatProgressModel",
            "_view_count": null,
            "_view_module": "@jupyter-widgets/controls",
            "_view_module_version": "1.5.0",
            "_view_name": "ProgressView",
            "bar_style": "success",
            "description": "",
            "description_tooltip": null,
            "layout": "IPY_MODEL_8fe5a2d729854d5b8ecb6853b7c0f8c9",
            "max": 412641178,
            "min": 0,
            "orientation": "horizontal",
            "style": "IPY_MODEL_a7e57ce0d1cc4202a520316d03d66823",
            "value": 412641178
          }
        },
        "c2176250c5dc493db2aadbf8735e28cb": {
          "model_module": "@jupyter-widgets/controls",
          "model_module_version": "1.5.0",
          "model_name": "HTMLModel",
          "state": {
            "_dom_classes": [],
            "_model_module": "@jupyter-widgets/controls",
            "_model_module_version": "1.5.0",
            "_model_name": "HTMLModel",
            "_view_count": null,
            "_view_module": "@jupyter-widgets/controls",
            "_view_module_version": "1.5.0",
            "_view_name": "HTMLView",
            "description": "",
            "description_tooltip": null,
            "layout": "IPY_MODEL_485707b9f399443a9087a71ced60dac2",
            "placeholder": "​",
            "style": "IPY_MODEL_f3e64747b26f4582b2ad6c59a05664ee",
            "value": "data/test-00000-of-00002-e0f1e8b674a1af9(…): 100%"
          }
        },
        "cb164bf83786450b898b3d383022f678": {
          "model_module": "@jupyter-widgets/base",
          "model_module_version": "1.2.0",
          "model_name": "LayoutModel",
          "state": {
            "_model_module": "@jupyter-widgets/base",
            "_model_module_version": "1.2.0",
            "_model_name": "LayoutModel",
            "_view_count": null,
            "_view_module": "@jupyter-widgets/base",
            "_view_module_version": "1.2.0",
            "_view_name": "LayoutView",
            "align_content": null,
            "align_items": null,
            "align_self": null,
            "border": null,
            "bottom": null,
            "display": null,
            "flex": null,
            "flex_flow": null,
            "grid_area": null,
            "grid_auto_columns": null,
            "grid_auto_flow": null,
            "grid_auto_rows": null,
            "grid_column": null,
            "grid_gap": null,
            "grid_row": null,
            "grid_template_areas": null,
            "grid_template_columns": null,
            "grid_template_rows": null,
            "height": null,
            "justify_content": null,
            "justify_items": null,
            "left": null,
            "margin": null,
            "max_height": null,
            "max_width": null,
            "min_height": null,
            "min_width": null,
            "object_fit": null,
            "object_position": null,
            "order": null,
            "overflow": null,
            "overflow_x": null,
            "overflow_y": null,
            "padding": null,
            "right": null,
            "top": null,
            "visibility": null,
            "width": null
          }
        },
        "cd67ce3afda64c3985a9498830fc3e99": {
          "model_module": "@jupyter-widgets/base",
          "model_module_version": "1.2.0",
          "model_name": "LayoutModel",
          "state": {
            "_model_module": "@jupyter-widgets/base",
            "_model_module_version": "1.2.0",
            "_model_name": "LayoutModel",
            "_view_count": null,
            "_view_module": "@jupyter-widgets/base",
            "_view_module_version": "1.2.0",
            "_view_name": "LayoutView",
            "align_content": null,
            "align_items": null,
            "align_self": null,
            "border": null,
            "bottom": null,
            "display": null,
            "flex": null,
            "flex_flow": null,
            "grid_area": null,
            "grid_auto_columns": null,
            "grid_auto_flow": null,
            "grid_auto_rows": null,
            "grid_column": null,
            "grid_gap": null,
            "grid_row": null,
            "grid_template_areas": null,
            "grid_template_columns": null,
            "grid_template_rows": null,
            "height": null,
            "justify_content": null,
            "justify_items": null,
            "left": null,
            "margin": null,
            "max_height": null,
            "max_width": null,
            "min_height": null,
            "min_width": null,
            "object_fit": null,
            "object_position": null,
            "order": null,
            "overflow": null,
            "overflow_x": null,
            "overflow_y": null,
            "padding": null,
            "right": null,
            "top": null,
            "visibility": null,
            "width": null
          }
        },
        "d0cabdd49dd64669b1b25b7e0b87ce12": {
          "model_module": "@jupyter-widgets/base",
          "model_module_version": "1.2.0",
          "model_name": "LayoutModel",
          "state": {
            "_model_module": "@jupyter-widgets/base",
            "_model_module_version": "1.2.0",
            "_model_name": "LayoutModel",
            "_view_count": null,
            "_view_module": "@jupyter-widgets/base",
            "_view_module_version": "1.2.0",
            "_view_name": "LayoutView",
            "align_content": null,
            "align_items": null,
            "align_self": null,
            "border": null,
            "bottom": null,
            "display": null,
            "flex": null,
            "flex_flow": null,
            "grid_area": null,
            "grid_auto_columns": null,
            "grid_auto_flow": null,
            "grid_auto_rows": null,
            "grid_column": null,
            "grid_gap": null,
            "grid_row": null,
            "grid_template_areas": null,
            "grid_template_columns": null,
            "grid_template_rows": null,
            "height": null,
            "justify_content": null,
            "justify_items": null,
            "left": null,
            "margin": null,
            "max_height": null,
            "max_width": null,
            "min_height": null,
            "min_width": null,
            "object_fit": null,
            "object_position": null,
            "order": null,
            "overflow": null,
            "overflow_x": null,
            "overflow_y": null,
            "padding": null,
            "right": null,
            "top": null,
            "visibility": null,
            "width": null
          }
        },
        "d50f67d74223480fa054daf150034d91": {
          "model_module": "@jupyter-widgets/controls",
          "model_module_version": "1.5.0",
          "model_name": "FloatProgressModel",
          "state": {
            "_dom_classes": [],
            "_model_module": "@jupyter-widgets/controls",
            "_model_module_version": "1.5.0",
            "_model_name": "FloatProgressModel",
            "_view_count": null,
            "_view_module": "@jupyter-widgets/controls",
            "_view_module_version": "1.5.0",
            "_view_name": "ProgressView",
            "bar_style": "success",
            "description": "",
            "description_tooltip": null,
            "layout": "IPY_MODEL_cb164bf83786450b898b3d383022f678",
            "max": 5000,
            "min": 0,
            "orientation": "horizontal",
            "style": "IPY_MODEL_feb5ab34e3984e1e82b67e7dc4a9951d",
            "value": 5000
          }
        },
        "d8dd674fded246e6925c20e3a7385070": {
          "model_module": "@jupyter-widgets/controls",
          "model_module_version": "1.5.0",
          "model_name": "HBoxModel",
          "state": {
            "_dom_classes": [],
            "_model_module": "@jupyter-widgets/controls",
            "_model_module_version": "1.5.0",
            "_model_name": "HBoxModel",
            "_view_count": null,
            "_view_module": "@jupyter-widgets/controls",
            "_view_module_version": "1.5.0",
            "_view_name": "HBoxView",
            "box_style": "",
            "children": [
              "IPY_MODEL_30f738a3660b4609a3004cb95efd28a0",
              "IPY_MODEL_271b8e90e87c4ef38769e9f1be0c08f8",
              "IPY_MODEL_a56b7b1cc2044979af3ef52934209d77"
            ],
            "layout": "IPY_MODEL_3ca1fb8353754f85b50b231d18f82b95"
          }
        },
        "db580f99c7ba4ef4836dc48e68323037": {
          "model_module": "@jupyter-widgets/base",
          "model_module_version": "1.2.0",
          "model_name": "LayoutModel",
          "state": {
            "_model_module": "@jupyter-widgets/base",
            "_model_module_version": "1.2.0",
            "_model_name": "LayoutModel",
            "_view_count": null,
            "_view_module": "@jupyter-widgets/base",
            "_view_module_version": "1.2.0",
            "_view_name": "LayoutView",
            "align_content": null,
            "align_items": null,
            "align_self": null,
            "border": null,
            "bottom": null,
            "display": null,
            "flex": null,
            "flex_flow": null,
            "grid_area": null,
            "grid_auto_columns": null,
            "grid_auto_flow": null,
            "grid_auto_rows": null,
            "grid_column": null,
            "grid_gap": null,
            "grid_row": null,
            "grid_template_areas": null,
            "grid_template_columns": null,
            "grid_template_rows": null,
            "height": null,
            "justify_content": null,
            "justify_items": null,
            "left": null,
            "margin": null,
            "max_height": null,
            "max_width": null,
            "min_height": null,
            "min_width": null,
            "object_fit": null,
            "object_position": null,
            "order": null,
            "overflow": null,
            "overflow_x": null,
            "overflow_y": null,
            "padding": null,
            "right": null,
            "top": null,
            "visibility": null,
            "width": null
          }
        },
        "dd81c8838cb64570988c3f59a7f5adf1": {
          "model_module": "@jupyter-widgets/controls",
          "model_module_version": "1.5.0",
          "model_name": "FloatProgressModel",
          "state": {
            "_dom_classes": [],
            "_model_module": "@jupyter-widgets/controls",
            "_model_module_version": "1.5.0",
            "_model_name": "FloatProgressModel",
            "_view_count": null,
            "_view_module": "@jupyter-widgets/controls",
            "_view_module_version": "1.5.0",
            "_view_name": "ProgressView",
            "bar_style": "success",
            "description": "",
            "description_tooltip": null,
            "layout": "IPY_MODEL_77a9dd742df5481298d212e670a4dcaf",
            "max": 410875614,
            "min": 0,
            "orientation": "horizontal",
            "style": "IPY_MODEL_14a7fc95bcfd4f91aeb454f69258ecfe",
            "value": 410875614
          }
        },
        "deee0ff329c04ac78e703f972e0bf8d9": {
          "model_module": "@jupyter-widgets/controls",
          "model_module_version": "1.5.0",
          "model_name": "DescriptionStyleModel",
          "state": {
            "_model_module": "@jupyter-widgets/controls",
            "_model_module_version": "1.5.0",
            "_model_name": "DescriptionStyleModel",
            "_view_count": null,
            "_view_module": "@jupyter-widgets/base",
            "_view_module_version": "1.2.0",
            "_view_name": "StyleView",
            "description_width": ""
          }
        },
        "e0a3b94020a349db85e14c7694d333f3": {
          "model_module": "@jupyter-widgets/base",
          "model_module_version": "1.2.0",
          "model_name": "LayoutModel",
          "state": {
            "_model_module": "@jupyter-widgets/base",
            "_model_module_version": "1.2.0",
            "_model_name": "LayoutModel",
            "_view_count": null,
            "_view_module": "@jupyter-widgets/base",
            "_view_module_version": "1.2.0",
            "_view_name": "LayoutView",
            "align_content": null,
            "align_items": null,
            "align_self": null,
            "border": null,
            "bottom": null,
            "display": null,
            "flex": null,
            "flex_flow": null,
            "grid_area": null,
            "grid_auto_columns": null,
            "grid_auto_flow": null,
            "grid_auto_rows": null,
            "grid_column": null,
            "grid_gap": null,
            "grid_row": null,
            "grid_template_areas": null,
            "grid_template_columns": null,
            "grid_template_rows": null,
            "height": null,
            "justify_content": null,
            "justify_items": null,
            "left": null,
            "margin": null,
            "max_height": null,
            "max_width": null,
            "min_height": null,
            "min_width": null,
            "object_fit": null,
            "object_position": null,
            "order": null,
            "overflow": null,
            "overflow_x": null,
            "overflow_y": null,
            "padding": null,
            "right": null,
            "top": null,
            "visibility": null,
            "width": null
          }
        },
        "e205aa67795d4afd8f408be18134f038": {
          "model_module": "@jupyter-widgets/controls",
          "model_module_version": "1.5.0",
          "model_name": "HBoxModel",
          "state": {
            "_dom_classes": [],
            "_model_module": "@jupyter-widgets/controls",
            "_model_module_version": "1.5.0",
            "_model_name": "HBoxModel",
            "_view_count": null,
            "_view_module": "@jupyter-widgets/controls",
            "_view_module_version": "1.5.0",
            "_view_name": "HBoxView",
            "box_style": "",
            "children": [
              "IPY_MODEL_972ee39c917a4c7883b030bb602dc4e7",
              "IPY_MODEL_d50f67d74223480fa054daf150034d91",
              "IPY_MODEL_1643d530885148a18b9f407c340b9db8"
            ],
            "layout": "IPY_MODEL_aeef982a371347bcb031c2c93145183a"
          }
        },
        "efc0048743844b4c815c9d25abbf8f47": {
          "model_module": "@jupyter-widgets/controls",
          "model_module_version": "1.5.0",
          "model_name": "DescriptionStyleModel",
          "state": {
            "_model_module": "@jupyter-widgets/controls",
            "_model_module_version": "1.5.0",
            "_model_name": "DescriptionStyleModel",
            "_view_count": null,
            "_view_module": "@jupyter-widgets/base",
            "_view_module_version": "1.2.0",
            "_view_name": "StyleView",
            "description_width": ""
          }
        },
        "eff7f723e536447a83443e5586bde19f": {
          "model_module": "@jupyter-widgets/base",
          "model_module_version": "1.2.0",
          "model_name": "LayoutModel",
          "state": {
            "_model_module": "@jupyter-widgets/base",
            "_model_module_version": "1.2.0",
            "_model_name": "LayoutModel",
            "_view_count": null,
            "_view_module": "@jupyter-widgets/base",
            "_view_module_version": "1.2.0",
            "_view_name": "LayoutView",
            "align_content": null,
            "align_items": null,
            "align_self": null,
            "border": null,
            "bottom": null,
            "display": null,
            "flex": null,
            "flex_flow": null,
            "grid_area": null,
            "grid_auto_columns": null,
            "grid_auto_flow": null,
            "grid_auto_rows": null,
            "grid_column": null,
            "grid_gap": null,
            "grid_row": null,
            "grid_template_areas": null,
            "grid_template_columns": null,
            "grid_template_rows": null,
            "height": null,
            "justify_content": null,
            "justify_items": null,
            "left": null,
            "margin": null,
            "max_height": null,
            "max_width": null,
            "min_height": null,
            "min_width": null,
            "object_fit": null,
            "object_position": null,
            "order": null,
            "overflow": null,
            "overflow_x": null,
            "overflow_y": null,
            "padding": null,
            "right": null,
            "top": null,
            "visibility": null,
            "width": null
          }
        },
        "f2cf13a7fdee438d872e33625abe6d5e": {
          "model_module": "@jupyter-widgets/base",
          "model_module_version": "1.2.0",
          "model_name": "LayoutModel",
          "state": {
            "_model_module": "@jupyter-widgets/base",
            "_model_module_version": "1.2.0",
            "_model_name": "LayoutModel",
            "_view_count": null,
            "_view_module": "@jupyter-widgets/base",
            "_view_module_version": "1.2.0",
            "_view_name": "LayoutView",
            "align_content": null,
            "align_items": null,
            "align_self": null,
            "border": null,
            "bottom": null,
            "display": null,
            "flex": null,
            "flex_flow": null,
            "grid_area": null,
            "grid_auto_columns": null,
            "grid_auto_flow": null,
            "grid_auto_rows": null,
            "grid_column": null,
            "grid_gap": null,
            "grid_row": null,
            "grid_template_areas": null,
            "grid_template_columns": null,
            "grid_template_rows": null,
            "height": null,
            "justify_content": null,
            "justify_items": null,
            "left": null,
            "margin": null,
            "max_height": null,
            "max_width": null,
            "min_height": null,
            "min_width": null,
            "object_fit": null,
            "object_position": null,
            "order": null,
            "overflow": null,
            "overflow_x": null,
            "overflow_y": null,
            "padding": null,
            "right": null,
            "top": null,
            "visibility": null,
            "width": null
          }
        },
        "f3e64747b26f4582b2ad6c59a05664ee": {
          "model_module": "@jupyter-widgets/controls",
          "model_module_version": "1.5.0",
          "model_name": "DescriptionStyleModel",
          "state": {
            "_model_module": "@jupyter-widgets/controls",
            "_model_module_version": "1.5.0",
            "_model_name": "DescriptionStyleModel",
            "_view_count": null,
            "_view_module": "@jupyter-widgets/base",
            "_view_module_version": "1.2.0",
            "_view_name": "StyleView",
            "description_width": ""
          }
        },
        "f4fa3da7f5bc43b39bab2e02a4e3d1ee": {
          "model_module": "@jupyter-widgets/controls",
          "model_module_version": "1.5.0",
          "model_name": "HTMLModel",
          "state": {
            "_dom_classes": [],
            "_model_module": "@jupyter-widgets/controls",
            "_model_module_version": "1.5.0",
            "_model_name": "HTMLModel",
            "_view_count": null,
            "_view_module": "@jupyter-widgets/controls",
            "_view_module_version": "1.5.0",
            "_view_name": "HTMLView",
            "description": "",
            "description_tooltip": null,
            "layout": "IPY_MODEL_db580f99c7ba4ef4836dc48e68323037",
            "placeholder": "​",
            "style": "IPY_MODEL_3e8f827421b246cd85f556242e4f5d53",
            "value": "README.md: "
          }
        },
        "fce1acfb397844f8939cfad2562e93eb": {
          "model_module": "@jupyter-widgets/controls",
          "model_module_version": "1.5.0",
          "model_name": "ProgressStyleModel",
          "state": {
            "_model_module": "@jupyter-widgets/controls",
            "_model_module_version": "1.5.0",
            "_model_name": "ProgressStyleModel",
            "_view_count": null,
            "_view_module": "@jupyter-widgets/base",
            "_view_module_version": "1.2.0",
            "_view_name": "StyleView",
            "bar_color": null,
            "description_width": ""
          }
        },
        "feb5ab34e3984e1e82b67e7dc4a9951d": {
          "model_module": "@jupyter-widgets/controls",
          "model_module_version": "1.5.0",
          "model_name": "ProgressStyleModel",
          "state": {
            "_model_module": "@jupyter-widgets/controls",
            "_model_module_version": "1.5.0",
            "_model_name": "ProgressStyleModel",
            "_view_count": null,
            "_view_module": "@jupyter-widgets/base",
            "_view_module_version": "1.2.0",
            "_view_name": "StyleView",
            "bar_color": null,
            "description_width": ""
          }
        }
      }
    }
  },
  "nbformat": 4,
  "nbformat_minor": 0
}
